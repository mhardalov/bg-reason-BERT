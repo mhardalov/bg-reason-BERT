{
 "cells": [
  {
   "cell_type": "code",
   "execution_count": 38,
   "metadata": {},
   "outputs": [],
   "source": [
    "import dataset\n",
    "import importlib\n",
    "import json\n",
    "import numpy as np\n",
    "import os\n",
    "import reasoning\n",
    "import torch\n",
    "import qa\n",
    "import time\n",
    "\n",
    "from dataset.bgquiz import BGQuiz\n",
    "from datetime import datetime\n",
    "from elasticsearch import Elasticsearch\n",
    "from elasticsearch import helpers\n",
    "from pytorch_pretrained_bert import BertTokenizer, BertModel, BertForQuestionAnswering, BertForMultipleChoice\n",
    "from reasoning.multichoice import *\n",
    "from tqdm import tqdm\n",
    "from qa.utils import query_es\n",
    "from qa.wiki_abstracts import get_wiki_abstracts\n",
    "\n",
    "\n",
    "# Reload the cached modules\n",
    "_ = importlib.reload(dataset.bgquiz)\n",
    "_ = importlib.reload(qa.utils)\n",
    "_ = importlib.reload(reasoning.multichoice)\n",
    "_ = importlib.reload(qa.wiki_abstracts)"
   ]
  },
  {
   "cell_type": "code",
   "execution_count": 5,
   "metadata": {},
   "outputs": [
    {
     "data": {
      "text/plain": [
       "BertForMultipleChoice(\n",
       "  (bert): BertModel(\n",
       "    (embeddings): BertEmbeddings(\n",
       "      (word_embeddings): Embedding(119547, 768, padding_idx=0)\n",
       "      (position_embeddings): Embedding(512, 768)\n",
       "      (token_type_embeddings): Embedding(2, 768)\n",
       "      (LayerNorm): BertLayerNorm()\n",
       "      (dropout): Dropout(p=0.0)\n",
       "    )\n",
       "    (encoder): BertEncoder(\n",
       "      (layer): ModuleList(\n",
       "        (0): BertLayer(\n",
       "          (attention): BertAttention(\n",
       "            (self): BertSelfAttention(\n",
       "              (query): Linear(in_features=768, out_features=768, bias=True)\n",
       "              (key): Linear(in_features=768, out_features=768, bias=True)\n",
       "              (value): Linear(in_features=768, out_features=768, bias=True)\n",
       "              (dropout): Dropout(p=0.0)\n",
       "            )\n",
       "            (output): BertSelfOutput(\n",
       "              (dense): Linear(in_features=768, out_features=768, bias=True)\n",
       "              (LayerNorm): BertLayerNorm()\n",
       "              (dropout): Dropout(p=0.0)\n",
       "            )\n",
       "          )\n",
       "          (intermediate): BertIntermediate(\n",
       "            (dense): Linear(in_features=768, out_features=3072, bias=True)\n",
       "          )\n",
       "          (output): BertOutput(\n",
       "            (dense): Linear(in_features=3072, out_features=768, bias=True)\n",
       "            (LayerNorm): BertLayerNorm()\n",
       "            (dropout): Dropout(p=0.0)\n",
       "          )\n",
       "        )\n",
       "        (1): BertLayer(\n",
       "          (attention): BertAttention(\n",
       "            (self): BertSelfAttention(\n",
       "              (query): Linear(in_features=768, out_features=768, bias=True)\n",
       "              (key): Linear(in_features=768, out_features=768, bias=True)\n",
       "              (value): Linear(in_features=768, out_features=768, bias=True)\n",
       "              (dropout): Dropout(p=0.0)\n",
       "            )\n",
       "            (output): BertSelfOutput(\n",
       "              (dense): Linear(in_features=768, out_features=768, bias=True)\n",
       "              (LayerNorm): BertLayerNorm()\n",
       "              (dropout): Dropout(p=0.0)\n",
       "            )\n",
       "          )\n",
       "          (intermediate): BertIntermediate(\n",
       "            (dense): Linear(in_features=768, out_features=3072, bias=True)\n",
       "          )\n",
       "          (output): BertOutput(\n",
       "            (dense): Linear(in_features=3072, out_features=768, bias=True)\n",
       "            (LayerNorm): BertLayerNorm()\n",
       "            (dropout): Dropout(p=0.0)\n",
       "          )\n",
       "        )\n",
       "        (2): BertLayer(\n",
       "          (attention): BertAttention(\n",
       "            (self): BertSelfAttention(\n",
       "              (query): Linear(in_features=768, out_features=768, bias=True)\n",
       "              (key): Linear(in_features=768, out_features=768, bias=True)\n",
       "              (value): Linear(in_features=768, out_features=768, bias=True)\n",
       "              (dropout): Dropout(p=0.0)\n",
       "            )\n",
       "            (output): BertSelfOutput(\n",
       "              (dense): Linear(in_features=768, out_features=768, bias=True)\n",
       "              (LayerNorm): BertLayerNorm()\n",
       "              (dropout): Dropout(p=0.0)\n",
       "            )\n",
       "          )\n",
       "          (intermediate): BertIntermediate(\n",
       "            (dense): Linear(in_features=768, out_features=3072, bias=True)\n",
       "          )\n",
       "          (output): BertOutput(\n",
       "            (dense): Linear(in_features=3072, out_features=768, bias=True)\n",
       "            (LayerNorm): BertLayerNorm()\n",
       "            (dropout): Dropout(p=0.0)\n",
       "          )\n",
       "        )\n",
       "        (3): BertLayer(\n",
       "          (attention): BertAttention(\n",
       "            (self): BertSelfAttention(\n",
       "              (query): Linear(in_features=768, out_features=768, bias=True)\n",
       "              (key): Linear(in_features=768, out_features=768, bias=True)\n",
       "              (value): Linear(in_features=768, out_features=768, bias=True)\n",
       "              (dropout): Dropout(p=0.0)\n",
       "            )\n",
       "            (output): BertSelfOutput(\n",
       "              (dense): Linear(in_features=768, out_features=768, bias=True)\n",
       "              (LayerNorm): BertLayerNorm()\n",
       "              (dropout): Dropout(p=0.0)\n",
       "            )\n",
       "          )\n",
       "          (intermediate): BertIntermediate(\n",
       "            (dense): Linear(in_features=768, out_features=3072, bias=True)\n",
       "          )\n",
       "          (output): BertOutput(\n",
       "            (dense): Linear(in_features=3072, out_features=768, bias=True)\n",
       "            (LayerNorm): BertLayerNorm()\n",
       "            (dropout): Dropout(p=0.0)\n",
       "          )\n",
       "        )\n",
       "        (4): BertLayer(\n",
       "          (attention): BertAttention(\n",
       "            (self): BertSelfAttention(\n",
       "              (query): Linear(in_features=768, out_features=768, bias=True)\n",
       "              (key): Linear(in_features=768, out_features=768, bias=True)\n",
       "              (value): Linear(in_features=768, out_features=768, bias=True)\n",
       "              (dropout): Dropout(p=0.0)\n",
       "            )\n",
       "            (output): BertSelfOutput(\n",
       "              (dense): Linear(in_features=768, out_features=768, bias=True)\n",
       "              (LayerNorm): BertLayerNorm()\n",
       "              (dropout): Dropout(p=0.0)\n",
       "            )\n",
       "          )\n",
       "          (intermediate): BertIntermediate(\n",
       "            (dense): Linear(in_features=768, out_features=3072, bias=True)\n",
       "          )\n",
       "          (output): BertOutput(\n",
       "            (dense): Linear(in_features=3072, out_features=768, bias=True)\n",
       "            (LayerNorm): BertLayerNorm()\n",
       "            (dropout): Dropout(p=0.0)\n",
       "          )\n",
       "        )\n",
       "        (5): BertLayer(\n",
       "          (attention): BertAttention(\n",
       "            (self): BertSelfAttention(\n",
       "              (query): Linear(in_features=768, out_features=768, bias=True)\n",
       "              (key): Linear(in_features=768, out_features=768, bias=True)\n",
       "              (value): Linear(in_features=768, out_features=768, bias=True)\n",
       "              (dropout): Dropout(p=0.0)\n",
       "            )\n",
       "            (output): BertSelfOutput(\n",
       "              (dense): Linear(in_features=768, out_features=768, bias=True)\n",
       "              (LayerNorm): BertLayerNorm()\n",
       "              (dropout): Dropout(p=0.0)\n",
       "            )\n",
       "          )\n",
       "          (intermediate): BertIntermediate(\n",
       "            (dense): Linear(in_features=768, out_features=3072, bias=True)\n",
       "          )\n",
       "          (output): BertOutput(\n",
       "            (dense): Linear(in_features=3072, out_features=768, bias=True)\n",
       "            (LayerNorm): BertLayerNorm()\n",
       "            (dropout): Dropout(p=0.0)\n",
       "          )\n",
       "        )\n",
       "        (6): BertLayer(\n",
       "          (attention): BertAttention(\n",
       "            (self): BertSelfAttention(\n",
       "              (query): Linear(in_features=768, out_features=768, bias=True)\n",
       "              (key): Linear(in_features=768, out_features=768, bias=True)\n",
       "              (value): Linear(in_features=768, out_features=768, bias=True)\n",
       "              (dropout): Dropout(p=0.0)\n",
       "            )\n",
       "            (output): BertSelfOutput(\n",
       "              (dense): Linear(in_features=768, out_features=768, bias=True)\n",
       "              (LayerNorm): BertLayerNorm()\n",
       "              (dropout): Dropout(p=0.0)\n",
       "            )\n",
       "          )\n",
       "          (intermediate): BertIntermediate(\n",
       "            (dense): Linear(in_features=768, out_features=3072, bias=True)\n",
       "          )\n",
       "          (output): BertOutput(\n",
       "            (dense): Linear(in_features=3072, out_features=768, bias=True)\n",
       "            (LayerNorm): BertLayerNorm()\n",
       "            (dropout): Dropout(p=0.0)\n",
       "          )\n",
       "        )\n",
       "        (7): BertLayer(\n",
       "          (attention): BertAttention(\n",
       "            (self): BertSelfAttention(\n",
       "              (query): Linear(in_features=768, out_features=768, bias=True)\n",
       "              (key): Linear(in_features=768, out_features=768, bias=True)\n",
       "              (value): Linear(in_features=768, out_features=768, bias=True)\n",
       "              (dropout): Dropout(p=0.0)\n",
       "            )\n",
       "            (output): BertSelfOutput(\n",
       "              (dense): Linear(in_features=768, out_features=768, bias=True)\n",
       "              (LayerNorm): BertLayerNorm()\n",
       "              (dropout): Dropout(p=0.0)\n",
       "            )\n",
       "          )\n",
       "          (intermediate): BertIntermediate(\n",
       "            (dense): Linear(in_features=768, out_features=3072, bias=True)\n",
       "          )\n",
       "          (output): BertOutput(\n",
       "            (dense): Linear(in_features=3072, out_features=768, bias=True)\n",
       "            (LayerNorm): BertLayerNorm()\n",
       "            (dropout): Dropout(p=0.0)\n",
       "          )\n",
       "        )\n",
       "        (8): BertLayer(\n",
       "          (attention): BertAttention(\n",
       "            (self): BertSelfAttention(\n",
       "              (query): Linear(in_features=768, out_features=768, bias=True)\n",
       "              (key): Linear(in_features=768, out_features=768, bias=True)\n",
       "              (value): Linear(in_features=768, out_features=768, bias=True)\n",
       "              (dropout): Dropout(p=0.0)\n",
       "            )\n",
       "            (output): BertSelfOutput(\n",
       "              (dense): Linear(in_features=768, out_features=768, bias=True)\n",
       "              (LayerNorm): BertLayerNorm()\n",
       "              (dropout): Dropout(p=0.0)\n",
       "            )\n",
       "          )\n",
       "          (intermediate): BertIntermediate(\n",
       "            (dense): Linear(in_features=768, out_features=3072, bias=True)\n",
       "          )\n",
       "          (output): BertOutput(\n",
       "            (dense): Linear(in_features=3072, out_features=768, bias=True)\n",
       "            (LayerNorm): BertLayerNorm()\n",
       "            (dropout): Dropout(p=0.0)\n",
       "          )\n",
       "        )\n",
       "        (9): BertLayer(\n",
       "          (attention): BertAttention(\n",
       "            (self): BertSelfAttention(\n",
       "              (query): Linear(in_features=768, out_features=768, bias=True)\n",
       "              (key): Linear(in_features=768, out_features=768, bias=True)\n",
       "              (value): Linear(in_features=768, out_features=768, bias=True)\n",
       "              (dropout): Dropout(p=0.0)\n",
       "            )\n",
       "            (output): BertSelfOutput(\n",
       "              (dense): Linear(in_features=768, out_features=768, bias=True)\n",
       "              (LayerNorm): BertLayerNorm()\n",
       "              (dropout): Dropout(p=0.0)\n",
       "            )\n",
       "          )\n",
       "          (intermediate): BertIntermediate(\n",
       "            (dense): Linear(in_features=768, out_features=3072, bias=True)\n",
       "          )\n",
       "          (output): BertOutput(\n",
       "            (dense): Linear(in_features=3072, out_features=768, bias=True)\n",
       "            (LayerNorm): BertLayerNorm()\n",
       "            (dropout): Dropout(p=0.0)\n",
       "          )\n",
       "        )\n",
       "        (10): BertLayer(\n",
       "          (attention): BertAttention(\n",
       "            (self): BertSelfAttention(\n",
       "              (query): Linear(in_features=768, out_features=768, bias=True)\n",
       "              (key): Linear(in_features=768, out_features=768, bias=True)\n",
       "              (value): Linear(in_features=768, out_features=768, bias=True)\n",
       "              (dropout): Dropout(p=0.0)\n",
       "            )\n",
       "            (output): BertSelfOutput(\n",
       "              (dense): Linear(in_features=768, out_features=768, bias=True)\n",
       "              (LayerNorm): BertLayerNorm()\n",
       "              (dropout): Dropout(p=0.0)\n",
       "            )\n",
       "          )\n",
       "          (intermediate): BertIntermediate(\n",
       "            (dense): Linear(in_features=768, out_features=3072, bias=True)\n",
       "          )\n",
       "          (output): BertOutput(\n",
       "            (dense): Linear(in_features=3072, out_features=768, bias=True)\n",
       "            (LayerNorm): BertLayerNorm()\n",
       "            (dropout): Dropout(p=0.0)\n",
       "          )\n",
       "        )\n",
       "        (11): BertLayer(\n",
       "          (attention): BertAttention(\n",
       "            (self): BertSelfAttention(\n",
       "              (query): Linear(in_features=768, out_features=768, bias=True)\n",
       "              (key): Linear(in_features=768, out_features=768, bias=True)\n",
       "              (value): Linear(in_features=768, out_features=768, bias=True)\n",
       "              (dropout): Dropout(p=0.0)\n",
       "            )\n",
       "            (output): BertSelfOutput(\n",
       "              (dense): Linear(in_features=768, out_features=768, bias=True)\n",
       "              (LayerNorm): BertLayerNorm()\n",
       "              (dropout): Dropout(p=0.0)\n",
       "            )\n",
       "          )\n",
       "          (intermediate): BertIntermediate(\n",
       "            (dense): Linear(in_features=768, out_features=3072, bias=True)\n",
       "          )\n",
       "          (output): BertOutput(\n",
       "            (dense): Linear(in_features=3072, out_features=768, bias=True)\n",
       "            (LayerNorm): BertLayerNorm()\n",
       "            (dropout): Dropout(p=0.0)\n",
       "          )\n",
       "        )\n",
       "      )\n",
       "    )\n",
       "    (pooler): BertPooler(\n",
       "      (dense): Linear(in_features=768, out_features=768, bias=True)\n",
       "      (activation): Tanh()\n",
       "    )\n",
       "  )\n",
       "  (dropout): Dropout(p=0.0)\n",
       "  (classifier): Linear(in_features=768, out_features=1, bias=True)\n",
       ")"
      ]
     },
     "execution_count": 5,
     "metadata": {},
     "output_type": "execute_result"
    }
   ],
   "source": [
    "model_dir = \"models/RACE_BERT3\"\n",
    "\n",
    "# Example for a Bert model\n",
    "model = BertForMultipleChoice.from_pretrained(model_dir, num_choices=4)\n",
    "model.to('cuda')"
   ]
  },
  {
   "cell_type": "code",
   "execution_count": 6,
   "metadata": {
    "scrolled": true
   },
   "outputs": [],
   "source": [
    "tokenizer = BertTokenizer.from_pretrained(model_dir, do_lower_case=False)  # Add specific options if needed"
   ]
  },
  {
   "cell_type": "code",
   "execution_count": 7,
   "metadata": {},
   "outputs": [
    {
     "data": {
      "text/plain": [
       "array([[-1.49886918, -1.16217601, -1.42287099, -1.31306469]])"
      ]
     },
     "execution_count": 7,
     "metadata": {},
     "output_type": "execute_result"
    }
   ],
   "source": [
    "wiki_control = \\\n",
    "'''\n",
    "Обсадата на Одрин приключва с превземането на турската крепост от Втора българска армия под общото командване на ген. Никола Иванов. Решителният пробив на източния сектор на крепостта е извършен под командването на ген. Георги Вазов. Ръководещият защитата на Одрин – Шукри паша, предава сабята си на ген. Иванов с думите: „Храбростта на българската армия е безподобна. На такава храброст никоя крепост не може да устои“. Победата фактически решава изхода на Балканската война.\n",
    "'''\n",
    "\n",
    "question_control = \"Кои военачалници ръководят защитата и превземането на Одринската крепост през месец март 1913 г.?\"\n",
    "options_control = [\n",
    "         \"Абдулах паша – ген. Радко Димитриев\",\n",
    "         \"Явер паша – ген. Васил Кутинчев\",\n",
    "         \"Назим паша – ген. Данаил Николаев\",\n",
    "         \"Шукри паша – ген. Никола Иванов\"\n",
    "      ]\n",
    "\n",
    "question_control = \\\n",
    "'''\n",
    "Името на коя международна организация е пропуснато в текста от нейния Устав, \n",
    "подписан през 1945 г. в Сан Франциско?    \n",
    "„1. _____________________________ е основана върху принципа на пълното равенство на  своите членове. \n",
    "3. Те се задължават да уреждат международните си спорове с мирни  средства. \n",
    "4. Членовете се въздържат в отношенията си от заплаха или от употреба на  сила. \n",
    "7. Организацията не се намесва във вътрешните работи на държавите. \n",
    "Това обаче не  засяга прилагането на принудителни мерки в случай на заплаха срещу мира, \n",
    "на нарушение на  мира и на актове на агресия.”'''\n",
    "wiki_control = '''\n",
    "Никола Иванов (генерал)\\n\\nНикола Иванов Иванов е български офицер (генерал от пехотата), началник на Щаба на войската през 1894–1896 година и министър на войната (1896–1899). Командир на Втора българска армия през Балканските войни от 1912–1913 година. Ръководи обсадата и превземането на Одринската крепост (март 1913).\\n\\nНикола Иванов е роден на 2 март 1861 г. в Калофер. Учи в Априловската гимназия '''\n",
    "options_control = [\n",
    "         \"Лигата на нациите\",\n",
    "         \"Организацията на обединените нации\",\n",
    "         \"Международната агенция за атомна енергия\",\n",
    "         \"Международната организация на труда\"\n",
    "      ]\n",
    "\n",
    "\n",
    "        \n",
    "predict(model, tokenizer, wiki_control, question_control, options_control, use_gpu=True)"
   ]
  },
  {
   "cell_type": "code",
   "execution_count": 8,
   "metadata": {},
   "outputs": [],
   "source": [
    "es = Elasticsearch()\n",
    "name = \"bgwiki_paragraph\""
   ]
  },
  {
   "cell_type": "code",
   "execution_count": 9,
   "metadata": {},
   "outputs": [],
   "source": [
    "quiz = BGQuiz(\"data/bg_rc-v1.0.json\")"
   ]
  },
  {
   "cell_type": "code",
   "execution_count": 10,
   "metadata": {},
   "outputs": [
    {
     "name": "stdout",
     "output_type": "stream",
     "text": [
      "[polyglot_data] Downloading package embeddings2.bg to\n",
      "[polyglot_data]     /home/momchil/polyglot_data...\n",
      "[polyglot_data]   Package embeddings2.bg is already up-to-date!\n",
      "[polyglot_data] Downloading package embeddings2.sr to\n",
      "[polyglot_data]     /home/momchil/polyglot_data...\n",
      "[polyglot_data]   Package embeddings2.sr is already up-to-date!\n",
      "[polyglot_data] Downloading package embeddings2.ru to\n",
      "[polyglot_data]     /home/momchil/polyglot_data...\n",
      "[polyglot_data] Downloading package ner2.bg to\n",
      "[polyglot_data]     /home/momchil/polyglot_data...\n",
      "[polyglot_data]   Package ner2.bg is already up-to-date!\n",
      "[polyglot_data] Downloading package ner2.sr to\n",
      "[polyglot_data]     /home/momchil/polyglot_data...\n",
      "[polyglot_data]   Package ner2.sr is already up-to-date!\n",
      "[polyglot_data] Downloading package ner2.ru to\n",
      "[polyglot_data]     /home/momchil/polyglot_data...\n",
      "[polyglot_data]   Package ner2.ru is already up-to-date!\n",
      "[polyglot_data] Downloading package pos2.bg to\n",
      "[polyglot_data]     /home/momchil/polyglot_data...\n",
      "[polyglot_data]   Package pos2.bg is already up-to-date!\n"
     ]
    }
   ],
   "source": [
    "!polyglot download embeddings2.bg\n",
    "!polyglot download embeddings2.sr\n",
    "!polyglot download embeddings2.ru\n",
    "\n",
    "!polyglot download ner2.bg\n",
    "!polyglot download ner2.sr\n",
    "!polyglot download ner2.ru\n",
    "\n",
    "!polyglot download pos2.bg\n"
   ]
  },
  {
   "cell_type": "code",
   "execution_count": null,
   "metadata": {
    "scrolled": true
   },
   "outputs": [
    {
     "name": "stderr",
     "output_type": "stream",
     "text": [
      "Detector is not able to detect the language reliably.\n",
      "Detector is not able to detect the language reliably.\n",
      "Detector is not able to detect the language reliably.\n"
     ]
    },
    {
     "name": "stdout",
     "output_type": "stream",
     "text": [
      "{\n",
      "  \"results_count\": 2,\n",
      "  \"query_field\": [\n",
      "    \"title.bulgarian^2\",\n",
      "    \"passage.ngram\",\n",
      "    \"passage\",\n",
      "    \"passage.bulgarian^2\"\n",
      "  ],\n",
      "  \"index\": \"bgwiki_paragraph\",\n",
      "  \"model\": \"models/RACE_BERT3\"\n",
      "}\n",
      "\n",
      "1./2633...QUESTION IS\n",
      "Самостоятелно съществуващи живи системи са:\n",
      "Entity found системи\n",
      "Entity found вирусите\n",
      "Entity found тъканите\n",
      "Entity found митохондриите\n",
      "Entity found организми\n"
     ]
    },
    {
     "name": "stderr",
     "output_type": "stream",
     "text": [
      "Detector is not able to detect the language reliably.\n",
      "Detector is not able to detect the language reliably.\n"
     ]
    },
    {
     "name": "stdout",
     "output_type": "stream",
     "text": [
      "\n",
      "2./2633...QUESTION IS\n",
      "Всички организми, населяващи една и съща територия и свързани помежду си с разнообразни отношения, образуват:\n",
      "Entity found организми\n",
      "Entity found територия\n",
      "Entity found помежду\n",
      "Entity found отношения\n"
     ]
    },
    {
     "name": "stderr",
     "output_type": "stream",
     "text": [
      "Detector is not able to detect the language reliably.\n",
      "Detector is not able to detect the language reliably.\n"
     ]
    },
    {
     "name": "stdout",
     "output_type": "stream",
     "text": [
      "Another language found\n",
      "Another language found\n",
      "Another language found\n"
     ]
    },
    {
     "name": "stderr",
     "output_type": "stream",
     "text": [
      "Detector is not able to detect the language reliably.\n"
     ]
    },
    {
     "name": "stdout",
     "output_type": "stream",
     "text": [
      "\n",
      "3./2633...QUESTION IS\n",
      "Функционалното място, което заема една популация в биоценозата наричаме:\n",
      "Entity found място\n",
      "Entity found популация\n",
      "Entity found местообитание\n",
      "Entity found доминант\n",
      "Entity found ниша\n",
      "Entity found пирамида\n"
     ]
    },
    {
     "name": "stderr",
     "output_type": "stream",
     "text": [
      "Detector is not able to detect the language reliably.\n"
     ]
    },
    {
     "name": "stdout",
     "output_type": "stream",
     "text": [
      "\n",
      "4./2633...QUESTION IS\n",
      "Редуцентите са организми, които се хранят:\n",
      "Entity found организми\n",
      "Entity found фотосинтеза\n",
      "Entity found храна\n",
      "Entity found материя\n",
      "Another language found\n",
      "\n",
      "5./2633...QUESTION IS\n",
      "Една от основните причини за развитието на парниковия ефект е:\n",
      "Entity found причини\n",
      "Entity found развитието\n",
      "Entity found ефект\n",
      "Entity found концентрация\n",
      "Entity found замърсители\n",
      "Entity found въздуха\n",
      "Entity found радиация\n",
      "Entity found разнообразие\n",
      "Entity found количество\n",
      "Entity found ресурси\n",
      "\n",
      "6./2633...QUESTION IS\n",
      "Кои химични съединения, характерни за клетката, задължително съдържат в молекулата си, както aминогрупа (–NH2), така също и карбоксилна група   (–COOH)?\n",
      "Entity found съединения\n",
      "Entity found клетката\n",
      "Entity found молекулата\n",
      "Entity found NH2\n",
      "Entity found група\n",
      "Entity found COOH\n"
     ]
    },
    {
     "name": "stderr",
     "output_type": "stream",
     "text": [
      "Detector is not able to detect the language reliably.\n",
      "Detector is not able to detect the language reliably.\n",
      "Detector is not able to detect the language reliably.\n"
     ]
    },
    {
     "name": "stdout",
     "output_type": "stream",
     "text": [
      "Another language found\n",
      "Entity found аминокиселини\n",
      "Another language found\n",
      "Entity found киселини\n",
      "\n",
      "7./2633...QUESTION IS\n",
      "Кое от изброените химични съединения е белтък?\n",
      "Entity found съединения\n"
     ]
    },
    {
     "name": "stderr",
     "output_type": "stream",
     "text": [
      "Detector is not able to detect the language reliably.\n",
      "Detector is not able to detect the language reliably.\n",
      "Detector is not able to detect the language reliably.\n",
      "Detector is not able to detect the language reliably.\n"
     ]
    },
    {
     "name": "stdout",
     "output_type": "stream",
     "text": [
      "Entity found белтък\n",
      "Entity found хемоглобин\n",
      "Entity found скорбяла\n",
      "Entity found целулоза\n",
      "\n",
      "8./2633...QUESTION IS\n",
      "Гликогенът е органично съединение от групата на:\n",
      "Entity found съединение\n"
     ]
    },
    {
     "name": "stderr",
     "output_type": "stream",
     "text": [
      "Detector is not able to detect the language reliably.\n"
     ]
    },
    {
     "name": "stdout",
     "output_type": "stream",
     "text": [
      "Entity found групата\n",
      "Entity found белтъците\n",
      "Another language found\n",
      "Entity found въглехидратите\n",
      "Another language found\n",
      "\n",
      "9./2633...QUESTION IS\n",
      "Кои химични съединения в клетката носят наследствената информация?\n",
      "Entity found съединения\n"
     ]
    },
    {
     "name": "stderr",
     "output_type": "stream",
     "text": [
      "Detector is not able to detect the language reliably.\n",
      "Detector is not able to detect the language reliably.\n"
     ]
    },
    {
     "name": "stdout",
     "output_type": "stream",
     "text": [
      "Entity found клетката\n",
      "Entity found информация\n",
      "Entity found киселини\n",
      "Another language found\n",
      "Another language found\n",
      "Entity found аминокиселини\n"
     ]
    },
    {
     "name": "stderr",
     "output_type": "stream",
     "text": [
      "Detector is not able to detect the language reliably.\n"
     ]
    },
    {
     "name": "stdout",
     "output_type": "stream",
     "text": [
      "\n",
      "10./2633...QUESTION IS\n",
      "Еукариотни са клетките на:\n",
      "Entity found клетките\n",
      "Entity found растенията\n",
      "Entity found животните\n",
      "Another language found\n",
      "Entity found цианобактериите\n",
      "Entity found организми\n"
     ]
    },
    {
     "name": "stderr",
     "output_type": "stream",
     "text": [
      "Detector is not able to detect the language reliably.\n"
     ]
    },
    {
     "name": "stdout",
     "output_type": "stream",
     "text": [
      "\n",
      "11./2633...QUESTION IS\n",
      "Кои от изброените структури са характерни САМО за растителните клетки?\n",
      "Entity found структури\n",
      "Entity found клетки\n",
      "Entity found център\n"
     ]
    },
    {
     "name": "stderr",
     "output_type": "stream",
     "text": [
      "Detector is not able to detect the language reliably.\n"
     ]
    },
    {
     "name": "stdout",
     "output_type": "stream",
     "text": [
      "Entity found апарат\n",
      "Entity found мрежа\n"
     ]
    },
    {
     "name": "stderr",
     "output_type": "stream",
     "text": [
      "Detector is not able to detect the language reliably.\n"
     ]
    },
    {
     "name": "stdout",
     "output_type": "stream",
     "text": [
      "Entity found стена\n",
      "Another language found\n",
      "\n",
      "12./2633...QUESTION IS\n",
      "Както прокариотните, така и еукариотните клетки, съдържат:\n",
      "Entity found клетки\n",
      "Entity found ['Голджи']\n",
      "Entity found ядро\n",
      "Entity found апарат\n",
      "Entity found мембрана\n",
      "Entity found цитоплазма\n",
      "Entity found център\n"
     ]
    },
    {
     "name": "stderr",
     "output_type": "stream",
     "text": [
      "Detector is not able to detect the language reliably.\n"
     ]
    },
    {
     "name": "stdout",
     "output_type": "stream",
     "text": [
      "Entity found митохондрии\n",
      "Entity found стена\n",
      "\n",
      "13./2633...QUESTION IS\n",
      "Хлоропластите и митохондриите си приличат по това, че в тях:\n",
      "Entity found Хлоропластите\n",
      "Entity found митохондриите\n",
      "Entity found ензими\n",
      "Entity found цикъла\n",
      "Entity found Кребс\n",
      "Entity found ['Калвин']\n",
      "Entity found цикъла\n"
     ]
    },
    {
     "name": "stderr",
     "output_type": "stream",
     "text": [
      "Detector is not able to detect the language reliably.\n"
     ]
    },
    {
     "name": "stdout",
     "output_type": "stream",
     "text": [
      "\n",
      "14./2633...QUESTION IS\n",
      "Анаболитните процеси са:\n",
      "Entity found процеси\n",
      "Entity found процеси\n",
      "Entity found разграждане\n",
      "Entity found енергия\n",
      "Entity found процеси\n",
      "Entity found хидролиза\n",
      "Entity found енергия\n"
     ]
    },
    {
     "name": "stderr",
     "output_type": "stream",
     "text": [
      "Detector is not able to detect the language reliably.\n"
     ]
    },
    {
     "name": "stdout",
     "output_type": "stream",
     "text": [
      "\n",
      "15./2633...QUESTION IS\n",
      "Зиготата и телесните клетки при човека имат по 46 хромозоми. Колко от  хромозомите в зиготата са получени от майчиния организъм?\n",
      "Entity found клетки\n",
      "Entity found човека\n",
      "Entity found хромозоми\n",
      "Entity found хромозомите\n",
      "Entity found зиготата\n",
      "Entity found организъм\n"
     ]
    },
    {
     "name": "stderr",
     "output_type": "stream",
     "text": [
      "Detector is not able to detect the language reliably.\n"
     ]
    },
    {
     "name": "stdout",
     "output_type": "stream",
     "text": [
      "Another language found\n"
     ]
    },
    {
     "name": "stderr",
     "output_type": "stream",
     "text": [
      "Detector is not able to detect the language reliably.\n"
     ]
    },
    {
     "name": "stdout",
     "output_type": "stream",
     "text": [
      "Another language found\n"
     ]
    },
    {
     "name": "stderr",
     "output_type": "stream",
     "text": [
      "Detector is not able to detect the language reliably.\n"
     ]
    },
    {
     "name": "stdout",
     "output_type": "stream",
     "text": [
      "Another language found\n",
      "Another language found\n",
      "\n",
      "16./2633...QUESTION IS\n",
      "Фенотип наричаме съвкупността от:\n",
      "Entity found Фенотип\n",
      "Entity found съвкупността\n",
      "Entity found процеси\n",
      "Entity found клетката\n",
      "Entity found гените\n",
      "Entity found набор\n",
      "Entity found индивид\n",
      "Entity found признаци\n",
      "Entity found индивид\n",
      "Another language found\n",
      "\n",
      "17./2633...QUESTION IS\n",
      "Кое от твърденията е вярно за процеса овогенеза?\n",
      "Entity found твърденията\n",
      "Entity found процеса\n",
      "Entity found семенниците\n",
      "Entity found яйчниците\n",
      "Entity found клетка\n",
      "Entity found равностойни\n",
      "Entity found гамети\n",
      "Entity found фази\n",
      "\n",
      "18./2633...QUESTION IS\n",
      "Дивергенцията е еволюционен процес на:\n",
      "Entity found Дивергенцията\n",
      "Entity found процес\n",
      "Entity found развитие\n",
      "Entity found организми\n",
      "Entity found раздалечаване\n",
      "Entity found белезите\n",
      "Entity found групи\n",
      "Entity found организми\n",
      "Entity found сближаване\n",
      "Entity found белезите\n",
      "Entity found групи\n",
      "Entity found организми\n",
      "Entity found развитие\n",
      "Entity found групи\n",
      "Entity found организми\n"
     ]
    },
    {
     "name": "stderr",
     "output_type": "stream",
     "text": [
      "Detector is not able to detect the language reliably.\n",
      "Detector is not able to detect the language reliably.\n",
      "Detector is not able to detect the language reliably.\n",
      "Detector is not able to detect the language reliably.\n"
     ]
    },
    {
     "name": "stdout",
     "output_type": "stream",
     "text": [
      "\n",
      "19./2633...QUESTION IS\n",
      "Кой от изброените еволюционни фактори възпрепятства свободното кръстосване между индивидите от един вид?\n",
      "Entity found фактори\n",
      "Entity found кръстосване\n",
      "Entity found индивидите\n",
      "Entity found вид\n",
      "Another language found\n",
      "Another language found\n",
      "Another language found\n",
      "Entity found изолация\n"
     ]
    },
    {
     "name": "stderr",
     "output_type": "stream",
     "text": [
      "Detector is not able to detect the language reliably.\n"
     ]
    },
    {
     "name": "stdout",
     "output_type": "stream",
     "text": [
      "\n",
      "20./2633...QUESTION IS\n",
      "Ароморфозите са:\n",
      "Entity found доказателства\n",
      "Entity found еволюцията\n",
      "Entity found насока\n",
      "Entity found процес\n",
      "Entity found пътищата\n",
      "Entity found прогрес\n",
      "Entity found доказателства\n",
      "Entity found еволюцията\n"
     ]
    },
    {
     "name": "stderr",
     "output_type": "stream",
     "text": [
      "Detector is not able to detect the language reliably.\n"
     ]
    },
    {
     "name": "stdout",
     "output_type": "stream",
     "text": [
      "\n",
      "21./2633...QUESTION IS\n",
      "Кое от следващите твърдения е основно положение в клетъчната теория?\n",
      "Entity found твърдения\n",
      "Entity found положение\n",
      "Entity found теория\n",
      "Entity found клетки\n",
      "Entity found Митозата\n",
      "Entity found делене\n",
      "Entity found Клетката\n",
      "Entity found единица\n",
      "Entity found материя\n",
      "Entity found клетки\n",
      "Entity found ядро\n",
      "\n",
      "22./2633...QUESTION IS\n",
      "Кои от изброените фактори са биотични?\n",
      "Entity found фактори\n",
      "Entity found въздух\n",
      "Entity found вода\n",
      "Entity found вятър\n",
      "Entity found конкуренция\n",
      "Entity found сътрудничество\n",
      "Another language found\n",
      "\n",
      "23./2633...QUESTION IS\n",
      "Екосистемата представлява:\n",
      "Entity found Екосистемата\n",
      "Entity found група\n"
     ]
    },
    {
     "name": "stderr",
     "output_type": "stream",
     "text": [
      "Detector is not able to detect the language reliably.\n",
      "Detector is not able to detect the language reliably.\n"
     ]
    },
    {
     "name": "stdout",
     "output_type": "stream",
     "text": [
      "Entity found видове\n",
      "Another language found\n",
      "Entity found система\n",
      "Entity found индивиди\n",
      "Entity found вид\n",
      "Entity found единство\n",
      "Entity found биоценоза\n",
      "Entity found биотоп\n",
      "\n",
      "24./2633...QUESTION IS\n",
      "Гъстата космена покривка при бозайниците през зимата е пример за:\n",
      "Entity found покривка\n",
      "Entity found бозайниците\n",
      "Entity found зимата\n",
      "Entity found пример\n"
     ]
    },
    {
     "name": "stderr",
     "output_type": "stream",
     "text": [
      "Detector is not able to detect the language reliably.\n",
      "Detector is not able to detect the language reliably.\n",
      "Detector is not able to detect the language reliably.\n"
     ]
    },
    {
     "name": "stdout",
     "output_type": "stream",
     "text": [
      "Entity found адаптация\n",
      "Entity found адаптация\n",
      "Another language found\n",
      "Another language found\n"
     ]
    },
    {
     "name": "stderr",
     "output_type": "stream",
     "text": [
      "Detector is not able to detect the language reliably.\n",
      "Detector is not able to detect the language reliably.\n",
      "Detector is not able to detect the language reliably.\n",
      "Detector is not able to detect the language reliably.\n"
     ]
    },
    {
     "name": "stdout",
     "output_type": "stream",
     "text": [
      "\n",
      "25./2633...QUESTION IS\n",
      "Водата е среда на живот за:\n",
      "Entity found Водата\n",
      "Entity found среда\n",
      "Entity found живот\n",
      "Another language found\n",
      "\n",
      "26./2633...QUESTION IS\n",
      "Доминантните видове в горските екосистеми се отнасят към:\n",
      "Entity found видове\n",
      "Entity found екосистеми\n",
      "Entity found продуцентите\n",
      "Entity found ред\n",
      "Entity found ред\n",
      "\n",
      "27./2633...QUESTION IS\n",
      "Пример за полово поведение при животните са:\n",
      "Entity found Пример\n",
      "Entity found поведение\n",
      "Entity found животните\n",
      "Another language found\n",
      "Entity found сън\n",
      "Entity found изхранването\n",
      "Entity found грижите\n",
      "Entity found миграции\n",
      "Entity found индивиди\n",
      "\n",
      "28./2633...QUESTION IS\n",
      "Кое свойство на водата е предпоставка някои насекоми да се придвижват по повърхността на водните басейни?\n",
      "Entity found свойство\n",
      "Entity found водата\n",
      "Entity found предпоставка\n",
      "Entity found насекоми\n",
      "Entity found повърхността\n",
      "Entity found басейни\n"
     ]
    },
    {
     "name": "stderr",
     "output_type": "stream",
     "text": [
      "Detector is not able to detect the language reliably.\n"
     ]
    },
    {
     "name": "stdout",
     "output_type": "stream",
     "text": [
      "Entity found разтворимостта\n",
      "Another language found\n",
      "Entity found напрежение\n"
     ]
    },
    {
     "name": "stderr",
     "output_type": "stream",
     "text": [
      "Detector is not able to detect the language reliably.\n"
     ]
    },
    {
     "name": "stdout",
     "output_type": "stream",
     "text": [
      "\n",
      "29./2633...QUESTION IS\n",
      "Кои клетъчни структури НЕ съдържат молекули ДНК?\n",
      "Entity found структури\n",
      "Entity found молекули\n",
      "Another language found\n",
      "Entity found хромозоми\n",
      "Another language found\n",
      "Another language found\n"
     ]
    },
    {
     "name": "stderr",
     "output_type": "stream",
     "text": [
      "Detector is not able to detect the language reliably.\n",
      "Detector is not able to detect the language reliably.\n",
      "Detector is not able to detect the language reliably.\n",
      "Detector is not able to detect the language reliably.\n"
     ]
    },
    {
     "name": "stdout",
     "output_type": "stream",
     "text": [
      "\n",
      "30./2633...QUESTION IS\n",
      "Какви връзки поддържат първичната структура на белтъка?\n",
      "Entity found връзки\n",
      "Entity found структура\n",
      "Entity found белтъка\n",
      "Another language found\n",
      "Another language found\n"
     ]
    },
    {
     "name": "stderr",
     "output_type": "stream",
     "text": [
      "Detector is not able to detect the language reliably.\n"
     ]
    },
    {
     "name": "stdout",
     "output_type": "stream",
     "text": [
      "\n",
      "31./2633...QUESTION IS\n",
      "Задължителeн компонент на всички клетки e:\n",
      "Entity found компонент\n",
      "Entity found клетки\n",
      "Entity found e\n",
      "Entity found мембрана\n",
      "Entity found мрежа\n"
     ]
    },
    {
     "name": "stderr",
     "output_type": "stream",
     "text": [
      "Detector is not able to detect the language reliably.\n"
     ]
    },
    {
     "name": "stdout",
     "output_type": "stream",
     "text": [
      "Another language found\n",
      "\n",
      "32./2633...QUESTION IS\n",
      "Кое твърдение е вярно за ендоцитозата?\n",
      "Entity found твърдение\n",
      "Entity found ендоцитозата\n",
      "Entity found процеса\n",
      "Entity found енергия\n",
      "Entity found канали\n",
      "Entity found мембраната\n",
      "Entity found пори\n",
      "Entity found мембраната\n",
      "Entity found белтъци\n",
      "Entity found преносители\n"
     ]
    },
    {
     "name": "stderr",
     "output_type": "stream",
     "text": [
      "Detector is not able to detect the language reliably.\n"
     ]
    },
    {
     "name": "stdout",
     "output_type": "stream",
     "text": [
      "\n",
      "33./2633...QUESTION IS\n",
      "За гликолизата е вярно, че:\n",
      "Entity found гликолизата\n",
      "Entity found път\n",
      "Entity found клетки\n",
      "Entity found път\n",
      "Entity found прокариотни\n",
      "Entity found клетки\n",
      "\n",
      "34./2633...QUESTION IS\n",
      "В кои клетъчни структури се извършва синтез на ДНК?\n",
      "Entity found структури\n",
      "Entity found синтез\n"
     ]
    },
    {
     "name": "stderr",
     "output_type": "stream",
     "text": [
      "Detector is not able to detect the language reliably.\n",
      "Detector is not able to detect the language reliably.\n"
     ]
    },
    {
     "name": "stdout",
     "output_type": "stream",
     "text": [
      "Another language found\n",
      "Another language found\n",
      "Entity found комплекс\n",
      "Entity found ядро\n",
      "\n",
      "35./2633...QUESTION IS\n",
      "Кое твърдение е вярно за рибозомите?\n",
      "Entity found твърдение\n",
      "Entity found рибозомите\n",
      "Entity found ядрото\n",
      "Entity found типове\n",
      "Entity found клетки\n",
      "Entity found ['едномембранни органели']\n",
      "Entity found органели\n",
      "Entity found синтезата\n",
      "Entity found белтъци\n",
      "Entity found клетки\n",
      "\n",
      "36./2633...QUESTION IS\n",
      "АТФ се синтезира в:\n",
      "Entity found мрежа\n"
     ]
    },
    {
     "name": "stderr",
     "output_type": "stream",
     "text": [
      "Detector is not able to detect the language reliably.\n"
     ]
    },
    {
     "name": "stdout",
     "output_type": "stream",
     "text": [
      "Another language found\n",
      "Entity found хлоропластите\n",
      "Entity found апарата\n"
     ]
    },
    {
     "name": "stderr",
     "output_type": "stream",
     "text": [
      "Detector is not able to detect the language reliably.\n"
     ]
    },
    {
     "name": "stdout",
     "output_type": "stream",
     "text": [
      "\n",
      "37./2633...QUESTION IS\n",
      "Ако телесна клетка с диплоиден набор хромозоми (2n = 12) се раздели чрез митоза, то в резултат ще се получат:\n",
      "Entity found клетка\n",
      "Entity found набор\n",
      "Entity found хромозоми\n",
      "Entity found 2n\n",
      "Entity found митоза\n",
      "Entity found резултат\n",
      "Entity found клетки\n",
      "Entity found хромозоми\n",
      "Entity found клетки\n",
      "Entity found хромозоми\n",
      "Entity found клетки\n",
      "Entity found хромозоми\n",
      "Entity found клетки\n",
      "Entity found хромозоми\n"
     ]
    },
    {
     "name": "stderr",
     "output_type": "stream",
     "text": [
      "Detector is not able to detect the language reliably.\n"
     ]
    },
    {
     "name": "stdout",
     "output_type": "stream",
     "text": [
      "\n",
      "38./2633...QUESTION IS\n",
      "Мутациите, за разлика от модификациите:\n",
      "Entity found Мутациите\n",
      "Entity found разлика\n",
      "Entity found модификациите\n"
     ]
    },
    {
     "name": "stderr",
     "output_type": "stream",
     "text": [
      "Detector is not able to detect the language reliably.\n",
      "Detector is not able to detect the language reliably.\n",
      "Detector is not able to detect the language reliably.\n"
     ]
    },
    {
     "name": "stdout",
     "output_type": "stream",
     "text": [
      "Entity found изменения\n",
      "Entity found потомството\n",
      "Entity found характер\n",
      "Entity found генофонда\n",
      "Entity found популацията\n"
     ]
    },
    {
     "name": "stderr",
     "output_type": "stream",
     "text": [
      "Detector is not able to detect the language reliably.\n",
      "Detector is not able to detect the language reliably.\n"
     ]
    },
    {
     "name": "stdout",
     "output_type": "stream",
     "text": [
      "\n",
      "39./2633...QUESTION IS\n",
      "Промяна в структурата на хромозомите може да бъде предизвикана от:\n",
      "Entity found Промяна\n",
      "Entity found структурата\n",
      "Entity found хромозомите\n",
      "Entity found мутация\n",
      "Another language found\n",
      "Entity found репликация\n",
      "Another language found\n",
      "\n",
      "40./2633...QUESTION IS\n",
      "Пример за взаимодействие между алелите на един и същи ген е:\n",
      "Entity found Пример\n"
     ]
    },
    {
     "name": "stderr",
     "output_type": "stream",
     "text": [
      "Detector is not able to detect the language reliably.\n"
     ]
    },
    {
     "name": "stdout",
     "output_type": "stream",
     "text": [
      "Entity found взаимодействие\n",
      "Entity found алелите\n",
      "Entity found ген\n",
      "Entity found взаимодействие\n",
      "Entity found взаимодействие\n",
      "Entity found взаимодействие\n",
      "Entity found доминиране\n",
      "\n",
      "41./2633...QUESTION IS\n",
      "Предимство на половото пред безполовото размножаване е това, че води до:\n",
      "Entity found Предимство\n",
      "Entity found размножаване\n",
      "Entity found адаптиране\n",
      "Entity found среда\n",
      "Entity found условия\n",
      "Entity found запазване\n",
      "Entity found белезите\n",
      "Entity found родителите\n",
      "Entity found разнообразие\n",
      "Entity found поколението\n",
      "Entity found поколението\n"
     ]
    },
    {
     "name": "stderr",
     "output_type": "stream",
     "text": [
      "Detector is not able to detect the language reliably.\n",
      "Detector is not able to detect the language reliably.\n",
      "Detector is not able to detect the language reliably.\n"
     ]
    },
    {
     "name": "stdout",
     "output_type": "stream",
     "text": [
      "\n",
      "42./2633...QUESTION IS\n",
      "Кой от изброените процеси е в основата на безполовото размножаване при животните?\n",
      "Entity found процеси\n",
      "Entity found основата\n",
      "Entity found размножаване\n",
      "Entity found животните\n",
      "Entity found мейоза\n",
      "Another language found\n",
      "Another language found\n",
      "Entity found оплождане\n"
     ]
    },
    {
     "name": "stderr",
     "output_type": "stream",
     "text": [
      "Detector is not able to detect the language reliably.\n",
      "Detector is not able to detect the language reliably.\n",
      "Detector is not able to detect the language reliably.\n"
     ]
    },
    {
     "name": "stdout",
     "output_type": "stream",
     "text": [
      "\n",
      "43./2633...QUESTION IS\n",
      "В скални пластове палеонтолози открили два вида фосили (вкаменелости) на гръбначни животни. Установено било, че единият вид фосили е на  представители на ранни влечуги. Другият вид фосили, намерени в по-дълбоко  разположени скални пластове, най-вероятно са от:\n",
      "Entity found пластове\n",
      "Entity found вида\n",
      "Entity found фосили\n",
      "Entity found вкаменелости\n",
      "Entity found гръбначни\n",
      "Entity found животни\n",
      "Entity found вид\n",
      "Entity found фосили\n",
      "Entity found представители\n",
      "Entity found влечуги\n",
      "Entity found фосили\n",
      "Entity found пластове\n",
      "Entity found от\n",
      "Entity found бозайници\n",
      "Entity found бозайници\n",
      "Entity found земноводни\n",
      "Entity found птици\n",
      "\n",
      "44./2633...QUESTION IS\n",
      "Приспособление за преживяване при ниски температури е:\n",
      "Entity found Приспособление\n",
      "Entity found преживяване\n",
      "Entity found температури\n",
      "Entity found козината\n",
      "Entity found бозайниците\n",
      "Entity found активност\n",
      "Entity found грабливи\n",
      "Entity found птици\n",
      "Entity found линеенето\n",
      "Entity found смяната\n",
      "Entity found обвивка\n",
      "Entity found змиите\n",
      "Entity found отделянето\n",
      "Entity found секрет\n",
      "Entity found кожата\n",
      "Entity found земноводните\n"
     ]
    },
    {
     "name": "stderr",
     "output_type": "stream",
     "text": [
      "Detector is not able to detect the language reliably.\n",
      "Detector is not able to detect the language reliably.\n"
     ]
    },
    {
     "name": "stdout",
     "output_type": "stream",
     "text": [
      "\n",
      "45./2633...QUESTION IS\n",
      "Биотопът и биоценозата са съставни части на:\n",
      "Entity found части\n",
      "Entity found екосистемата\n",
      "Another language found\n",
      "\n",
      "46./2633...QUESTION IS\n",
      "В резултат от жизнената дейност на растенията:\n",
      "Entity found резултат\n",
      "Entity found дейност\n",
      "Entity found растенията\n",
      "Entity found биосферата\n",
      "Entity found продуктивност\n",
      "Entity found соли\n",
      "Entity found атмосферата\n",
      "Entity found кислород\n",
      "Entity found хидросферата\n",
      "Entity found азот\n"
     ]
    },
    {
     "name": "stderr",
     "output_type": "stream",
     "text": [
      "Detector is not able to detect the language reliably.\n"
     ]
    },
    {
     "name": "stdout",
     "output_type": "stream",
     "text": [
      "\n",
      "47./2633...QUESTION IS\n",
      "Гликогенът в мускулните клетки:\n",
      "Entity found клетки\n",
      "Entity found източник\n"
     ]
    },
    {
     "name": "stderr",
     "output_type": "stream",
     "text": [
      "Detector is not able to detect the language reliably.\n"
     ]
    },
    {
     "name": "stdout",
     "output_type": "stream",
     "text": [
      "Entity found НАДФ\n",
      "Entity found функция\n",
      "Entity found ['като']\n",
      "Entity found резерв\n",
      "Entity found глюкоза\n",
      "Entity found миофибрилите\n",
      "\n",
      "48./2633...QUESTION IS\n",
      "Белтъците в клетката:\n",
      "Entity found Белтъците\n",
      "Entity found клетката\n",
      "Entity found ядро\n",
      "Entity found информация\n",
      "Entity found източник\n",
      "Entity found енергия\n",
      "Entity found структури\n",
      "\n",
      "49./2633...QUESTION IS\n",
      "За вирусите е вярно, че:\n",
      "Entity found вирусите\n",
      "Entity found обмяна\n",
      "Entity found вещества\n",
      "Entity found среда\n",
      "Entity found строеж\n",
      "Entity found програма\n",
      "\n",
      "50./2633...QUESTION IS\n",
      "Апаратът на Голджи е клетъчен органел, свързан със:\n",
      "Entity found ['Голджи']\n"
     ]
    },
    {
     "name": "stderr",
     "output_type": "stream",
     "text": [
      "Detector is not able to detect the language reliably.\n"
     ]
    },
    {
     "name": "stdout",
     "output_type": "stream",
     "text": [
      "Entity found Апаратът\n",
      "Entity found органел\n",
      "Entity found разграждане\n",
      "Entity found въглехидрати\n",
      "Entity found секреция\n",
      "Entity found вещества\n",
      "Entity found синтеза\n",
      "Entity found белтъци\n",
      "Entity found ['спирализация']\n",
      "Entity found хроматина\n"
     ]
    },
    {
     "name": "stderr",
     "output_type": "stream",
     "text": [
      "Detector is not able to detect the language reliably.\n",
      "Detector is not able to detect the language reliably.\n",
      "Detector is not able to detect the language reliably.\n",
      "Detector is not able to detect the language reliably.\n"
     ]
    },
    {
     "name": "stdout",
     "output_type": "stream",
     "text": [
      "\n",
      "51./2633...QUESTION IS\n",
      "Кой от изброените процеси е анаболитен?\n",
      "Entity found процеси\n",
      "Entity found анаболитен\n",
      "Another language found\n",
      "Entity found гликолиза\n",
      "Entity found репликация\n",
      "\n",
      "52./2633...QUESTION IS\n",
      "Броят на хромозомите в клетките намалява наполовина при процеса:\n",
      "Entity found Броят\n"
     ]
    },
    {
     "name": "stderr",
     "output_type": "stream",
     "text": [
      "Detector is not able to detect the language reliably.\n",
      "Detector is not able to detect the language reliably.\n"
     ]
    },
    {
     "name": "stdout",
     "output_type": "stream",
     "text": [
      "Entity found хромозомите\n",
      "Entity found клетките\n",
      "Entity found процеса\n",
      "Another language found\n"
     ]
    },
    {
     "name": "stderr",
     "output_type": "stream",
     "text": [
      "Detector is not able to detect the language reliably.\n"
     ]
    },
    {
     "name": "stdout",
     "output_type": "stream",
     "text": [
      "Another language found\n",
      "Entity found мейоза\n",
      "Entity found оплождане\n",
      "\n",
      "53./2633...QUESTION IS\n",
      "Клетка, която съдържа само по една хромозома от всяка хомоложна двойка, наричаме:\n",
      "Entity found Клетка\n",
      "Entity found хромозома\n",
      "Entity found двойка\n"
     ]
    },
    {
     "name": "stderr",
     "output_type": "stream",
     "text": [
      "Detector is not able to detect the language reliably.\n",
      "Detector is not able to detect the language reliably.\n",
      "Detector is not able to detect the language reliably.\n",
      "Detector is not able to detect the language reliably.\n"
     ]
    },
    {
     "name": "stdout",
     "output_type": "stream",
     "text": [
      "\n",
      "54./2633...QUESTION IS\n",
      "Модификациите, за разлика от мутациите:\n",
      "Entity found Модификациите\n",
      "Entity found разлика\n",
      "Entity found мутациите\n",
      "Entity found материал\n",
      "Entity found изменения\n",
      "Entity found характер\n",
      "\n",
      "55./2633...QUESTION IS\n",
      "Полово размножаване се среща:\n",
      "Entity found размножаване\n",
      "Entity found растенията\n",
      "Entity found животните\n",
      "Entity found човека\n",
      "Entity found организми\n",
      "Entity found представители\n",
      "Entity found групи\n",
      "Entity found организми\n",
      "\n",
      "56./2633...QUESTION IS\n",
      "Общ белег на сперматозоидите и яйцеклетките на човека е, че:\n",
      "Entity found белег\n",
      "Entity found сперматозоидите\n",
      "Entity found яйцеклетките\n",
      "Entity found човека\n",
      "Entity found брой\n",
      "Entity found хромозоми\n",
      "Entity found камшиче\n",
      "Entity found реснички\n",
      "Entity found фази\n",
      "Entity found образуването\n",
      "Entity found клетки\n",
      "\n",
      "57./2633...QUESTION IS\n",
      "Последователността на процесите в зародишното развитие на многоклетъчните организми е следната:\n",
      "Entity found Последователността\n",
      "Entity found процесите\n"
     ]
    },
    {
     "name": "stderr",
     "output_type": "stream",
     "text": [
      "Detector is not able to detect the language reliably.\n",
      "Detector is not able to detect the language reliably.\n",
      "Detector is not able to detect the language reliably.\n",
      "Detector is not able to detect the language reliably.\n"
     ]
    },
    {
     "name": "stdout",
     "output_type": "stream",
     "text": [
      "Entity found развитие\n",
      "Entity found организми\n",
      "Another language found\n",
      "Another language found\n",
      "Another language found\n",
      "Another language found\n"
     ]
    },
    {
     "name": "stderr",
     "output_type": "stream",
     "text": [
      "Detector is not able to detect the language reliably.\n",
      "Detector is not able to detect the language reliably.\n"
     ]
    },
    {
     "name": "stdout",
     "output_type": "stream",
     "text": [
      "\n",
      "58./2633...QUESTION IS\n",
      "Етологичният критерий за определяне на вида се основава на сходство в:\n",
      "Entity found критерий\n",
      "Entity found определяне\n",
      "Entity found вида\n",
      "Entity found сходство\n",
      "Entity found ареала\n",
      "Entity found разпространение\n",
      "Entity found ['броя']\n",
      "Entity found броя\n",
      "Entity found хромозомите\n",
      "Entity found поведението\n",
      "Entity found индивидите\n",
      "Entity found устройство\n",
      "\n",
      "59./2633...QUESTION IS\n",
      "Според Дарвин, приликите във външния вид на акулата и на делфина, са резултат от:\n",
      "Entity found ['Дарвин']\n",
      "Entity found Дарвин\n"
     ]
    },
    {
     "name": "stderr",
     "output_type": "stream",
     "text": [
      "Detector is not able to detect the language reliably.\n"
     ]
    },
    {
     "name": "stdout",
     "output_type": "stream",
     "text": [
      "Entity found приликите\n",
      "Entity found вид\n",
      "Entity found акулата\n",
      "Entity found резултат\n",
      "Entity found борба\n",
      "Entity found съществуване\n",
      "Another language found\n",
      "Entity found борба\n",
      "Entity found съществуване\n",
      "Another language found\n",
      "\n",
      "60./2633...QUESTION IS\n",
      "За генотипа е вярно, че е:\n",
      "Entity found генотипа\n",
      "Entity found съвкупност\n",
      "Entity found признаци\n",
      "Entity found индивид\n",
      "Entity found бактериите\n",
      "Entity found съвкупност\n",
      "Entity found гени\n",
      "Entity found индивид\n"
     ]
    },
    {
     "name": "stderr",
     "output_type": "stream",
     "text": [
      "Detector is not able to detect the language reliably.\n"
     ]
    },
    {
     "name": "stdout",
     "output_type": "stream",
     "text": [
      "\n",
      "61./2633...QUESTION IS\n",
      "Появата на еукариотни клетки в хода на еволюцията, е пример за:\n",
      "Entity found Появата\n",
      "Entity found клетки\n",
      "Entity found хода\n",
      "Entity found еволюцията\n",
      "Entity found пример\n"
     ]
    },
    {
     "name": "stderr",
     "output_type": "stream",
     "text": [
      "Detector is not able to detect the language reliably.\n",
      "Detector is not able to detect the language reliably.\n",
      "Detector is not able to detect the language reliably.\n"
     ]
    },
    {
     "name": "stdout",
     "output_type": "stream",
     "text": [
      "Another language found\n",
      "Another language found\n",
      "Entity found регрес\n",
      "\n",
      "62./2633...QUESTION IS\n",
      "Към коя група доказателства за еволюцията се отнася сходството в структурните части на скелета при гръбначните животни?\n",
      "Entity found група\n"
     ]
    },
    {
     "name": "stderr",
     "output_type": "stream",
     "text": [
      "Detector is not able to detect the language reliably.\n"
     ]
    },
    {
     "name": "stdout",
     "output_type": "stream",
     "text": [
      "Entity found доказателства\n",
      "Entity found еволюцията\n",
      "Entity found сходството\n",
      "Entity found части\n",
      "Entity found скелета\n",
      "Entity found животни\n",
      "\n",
      "63./2633...QUESTION IS\n",
      "С термина антропогенеза, се означава:\n",
      "Entity found термина\n",
      "Entity found развитие\n",
      "Entity found животните\n",
      "Entity found развитие\n",
      "Entity found човека\n",
      "Entity found развитие\n",
      "Entity found човека\n",
      "Entity found развитие\n",
      "Entity found свят\n",
      "\n",
      "64./2633...QUESTION IS\n",
      "Представителите на отделните раси на вида Homo sapiens се различават по:\n",
      "Entity found Представителите\n",
      "Entity found раси\n",
      "Entity found вида\n",
      "Entity found цвета\n",
      "Entity found кожата\n",
      "Entity found ['броя']\n",
      "Entity found броя\n",
      "Entity found хромозомите\n",
      "Entity found кариотипа\n",
      "Entity found функционирането\n",
      "Entity found жлеза\n",
      "Entity found обем\n",
      "Entity found кухина\n",
      "\n",
      "65./2633...QUESTION IS\n",
      "Приспособление за преживяване при ниски температури при растенията, е образуването на:\n",
      "Entity found Приспособление\n",
      "Entity found преживяване\n",
      "Entity found температури\n",
      "Entity found растенията\n",
      "Entity found образуването\n"
     ]
    },
    {
     "name": "stderr",
     "output_type": "stream",
     "text": [
      "Detector is not able to detect the language reliably.\n"
     ]
    },
    {
     "name": "stdout",
     "output_type": "stream",
     "text": [
      "Entity found листа\n",
      "Entity found петура\n",
      "Entity found плодове\n",
      "Entity found налеп\n",
      "Entity found устица\n",
      "Entity found епидермиса\n",
      "Entity found люспи\n",
      "Entity found пъпките\n"
     ]
    },
    {
     "name": "stderr",
     "output_type": "stream",
     "text": [
      "Detector is not able to detect the language reliably.\n",
      "Detector is not able to detect the language reliably.\n"
     ]
    },
    {
     "name": "stdout",
     "output_type": "stream",
     "text": [
      "\n",
      "66./2633...QUESTION IS\n",
      "Екосистемата представлява единство на:\n",
      "Entity found Екосистемата\n",
      "Entity found единство\n"
     ]
    },
    {
     "name": "stderr",
     "output_type": "stream",
     "text": [
      "Detector is not able to detect the language reliably.\n",
      "Detector is not able to detect the language reliably.\n"
     ]
    },
    {
     "name": "stdout",
     "output_type": "stream",
     "text": [
      "Another language found\n",
      "Another language found\n"
     ]
    },
    {
     "name": "stderr",
     "output_type": "stream",
     "text": [
      "Detector is not able to detect the language reliably.\n",
      "Detector is not able to detect the language reliably.\n",
      "Detector is not able to detect the language reliably.\n"
     ]
    },
    {
     "name": "stdout",
     "output_type": "stream",
     "text": [
      "\n",
      "67./2633...QUESTION IS\n",
      "Кислородът в атмосферата е резултат от процеса:\n",
      "Entity found Кислородът\n",
      "Entity found атмосферата\n",
      "Entity found резултат\n",
      "Entity found процеса\n",
      "Entity found хидролиза\n",
      "Another language found\n",
      "Entity found окисление\n",
      "Entity found фотосинтеза\n",
      "\n",
      "68./2633...QUESTION IS\n",
      "Секретът, предпазващ перата на птиците от намокряне, съдържа предимно:\n",
      "Entity found перата\n",
      "Entity found птиците\n"
     ]
    },
    {
     "name": "stderr",
     "output_type": "stream",
     "text": [
      "Detector is not able to detect the language reliably.\n",
      "Detector is not able to detect the language reliably.\n"
     ]
    },
    {
     "name": "stdout",
     "output_type": "stream",
     "text": [
      "Another language found\n",
      "Entity found белтъци\n",
      "Entity found аминокиселини\n",
      "Entity found въглехидрати\n"
     ]
    },
    {
     "name": "stderr",
     "output_type": "stream",
     "text": [
      "Detector is not able to detect the language reliably.\n",
      "Detector is not able to detect the language reliably.\n",
      "Detector is not able to detect the language reliably.\n",
      "Detector is not able to detect the language reliably.\n"
     ]
    },
    {
     "name": "stdout",
     "output_type": "stream",
     "text": [
      "\n",
      "69./2633...QUESTION IS\n",
      "Наследствената информация в клетките е записана в молекулите на:\n",
      "Entity found информация\n",
      "Entity found клетките\n",
      "Entity found молекулите\n",
      "Another language found\n",
      "Entity found НАДФ\n"
     ]
    },
    {
     "name": "stderr",
     "output_type": "stream",
     "text": [
      "Detector is not able to detect the language reliably.\n",
      "Detector is not able to detect the language reliably.\n"
     ]
    },
    {
     "name": "stdout",
     "output_type": "stream",
     "text": [
      "\n",
      "70./2633...QUESTION IS\n",
      "При изследване на човек за СПИН, вирусите, причиняващи заболяването, могат да се открият в клетки на:\n",
      "Entity found изследване\n",
      "Entity found човек\n",
      "Entity found СПИН\n",
      "Entity found вирусите\n",
      "Entity found заболяването\n",
      "Entity found клетки\n",
      "Entity found бронхите\n",
      "Entity found мозък\n",
      "Entity found кръвта\n",
      "Entity found дроб\n"
     ]
    },
    {
     "name": "stderr",
     "output_type": "stream",
     "text": [
      "Detector is not able to detect the language reliably.\n"
     ]
    },
    {
     "name": "stdout",
     "output_type": "stream",
     "text": [
      "\n",
      "71./2633...QUESTION IS\n",
      "Еукариотните клетки, за разлика от прокариотните, имат:\n",
      "Entity found клетки\n",
      "Entity found разлика\n",
      "Entity found прокариотните\n",
      "Another language found\n",
      "Another language found\n",
      "Entity found мембрана\n",
      "Another language found\n"
     ]
    },
    {
     "name": "stderr",
     "output_type": "stream",
     "text": [
      "Detector is not able to detect the language reliably.\n"
     ]
    },
    {
     "name": "stdout",
     "output_type": "stream",
     "text": [
      "\n",
      "72./2633...QUESTION IS\n",
      "Рибозомите участват в синтезата на:\n",
      "Entity found Рибозомите\n",
      "Entity found синтезата\n",
      "Another language found\n",
      "Entity found въглехидрати\n",
      "Another language found\n",
      "Entity found белтъци\n"
     ]
    },
    {
     "name": "stderr",
     "output_type": "stream",
     "text": [
      "Detector is not able to detect the language reliably.\n"
     ]
    },
    {
     "name": "stdout",
     "output_type": "stream",
     "text": [
      "\n",
      "73./2633...QUESTION IS\n",
      "Кой от изброените процеси е катаболитен?\n",
      "Entity found процеси\n",
      "Entity found катаболитен\n",
      "Entity found ['Калвин']\n",
      "Entity found цикъл\n"
     ]
    },
    {
     "name": "stderr",
     "output_type": "stream",
     "text": [
      "Detector is not able to detect the language reliably.\n",
      "Detector is not able to detect the language reliably.\n"
     ]
    },
    {
     "name": "stdout",
     "output_type": "stream",
     "text": [
      "Entity found репликация\n",
      "Another language found\n",
      "Entity found гликолиза\n"
     ]
    },
    {
     "name": "stderr",
     "output_type": "stream",
     "text": [
      "Detector is not able to detect the language reliably.\n",
      "Detector is not able to detect the language reliably.\n",
      "Detector is not able to detect the language reliably.\n"
     ]
    },
    {
     "name": "stdout",
     "output_type": "stream",
     "text": [
      "\n",
      "74./2633...QUESTION IS\n",
      "Чрез митотично делене на диплоидни клетки в многоклетъчните организми се  образуват:\n",
      "Entity found делене\n",
      "Entity found клетки\n",
      "Entity found многоклетъчните\n",
      "Entity found организми\n",
      "Another language found\n",
      "Entity found клетки\n",
      "Another language found\n",
      "Entity found гамети\n",
      "\n",
      "75./2633...QUESTION IS\n",
      "Клетка, която съдържа по две хромозоми на всяка хомоложна двойка, наричаме:\n",
      "Entity found Клетка\n",
      "Entity found хромозоми\n",
      "Entity found двойка\n"
     ]
    },
    {
     "name": "stderr",
     "output_type": "stream",
     "text": [
      "Detector is not able to detect the language reliably.\n",
      "Detector is not able to detect the language reliably.\n",
      "Detector is not able to detect the language reliably.\n",
      "Detector is not able to detect the language reliably.\n"
     ]
    },
    {
     "name": "stdout",
     "output_type": "stream",
     "text": [
      "\n",
      "76./2633...QUESTION IS\n",
      "Мутациите, за разлика от модификациите:\n",
      "Entity found Мутациите\n",
      "Entity found разлика\n",
      "Entity found модификациите\n",
      "Entity found характер\n",
      "Entity found материал\n",
      "Entity found изменения\n",
      "\n",
      "77./2633...QUESTION IS\n",
      "Постоянството на броя хромозоми в клетките на всяко следващо поколение при видовете с полово размножаване, се осигурява от процесите:\n",
      "Entity found Постоянството\n",
      "Entity found броя\n",
      "Entity found хромозоми\n",
      "Entity found клетките\n",
      "Entity found поколение\n",
      "Entity found размножаване\n",
      "Entity found процесите\n"
     ]
    },
    {
     "name": "stderr",
     "output_type": "stream",
     "text": [
      "Detector is not able to detect the language reliably.\n",
      "Detector is not able to detect the language reliably.\n",
      "Detector is not able to detect the language reliably.\n"
     ]
    },
    {
     "name": "stdout",
     "output_type": "stream",
     "text": [
      "Entity found рекомбинация\n",
      "Entity found мейоза\n",
      "Entity found оплождане\n",
      "\n",
      "78./2633...QUESTION IS\n",
      "За зрелите сперматозоиди и яйцеклетки при човека е вярно, че:\n",
      "Entity found сперматозоиди\n",
      "Entity found яйцеклетки\n",
      "Entity found човека\n",
      "Entity found брой\n",
      "Entity found хромозоми\n",
      "Entity found фази\n",
      "Entity found гаметогенезата\n",
      "Entity found митоза\n",
      "Entity found размери\n"
     ]
    },
    {
     "name": "stderr",
     "output_type": "stream",
     "text": [
      "Detector is not able to detect the language reliably.\n"
     ]
    },
    {
     "name": "stdout",
     "output_type": "stream",
     "text": [
      "\n",
      "79./2633...QUESTION IS\n",
      "Следзародишното развитие на животните започва с:\n",
      "Entity found развитие\n",
      "Entity found животните\n",
      "Entity found с\n",
      "Entity found излюпването\n",
      "Entity found раждането\n",
      "Entity found оплождането\n",
      "Entity found яйцеклетката\n",
      "Entity found бластулата\n",
      "Entity found зиготата\n"
     ]
    },
    {
     "name": "stderr",
     "output_type": "stream",
     "text": [
      "Detector is not able to detect the language reliably.\n"
     ]
    },
    {
     "name": "stdout",
     "output_type": "stream",
     "text": [
      "\n",
      "80./2633...QUESTION IS\n",
      "Морфологичният критерий за вида се основава на сходство в:\n",
      "Entity found критерий\n",
      "Entity found вида\n",
      "Entity found сходство\n",
      "Entity found поведението\n",
      "Entity found размножаване\n",
      "Entity found състав\n",
      "Entity found клетките\n",
      "Entity found ареала\n",
      "Entity found разпространение\n",
      "Entity found устройството\n",
      "Entity found тялото\n",
      "\n",
      "81./2633...QUESTION IS\n",
      "Най-малката единица за еволюция (елементарна еволюционна единица) е:\n",
      "Entity found единица\n",
      "Entity found еволюция\n",
      "Entity found единица\n"
     ]
    },
    {
     "name": "stderr",
     "output_type": "stream",
     "text": [
      "Detector is not able to detect the language reliably.\n"
     ]
    },
    {
     "name": "stdout",
     "output_type": "stream",
     "text": [
      "Another language found\n",
      "Entity found видът\n"
     ]
    },
    {
     "name": "stderr",
     "output_type": "stream",
     "text": [
      "Detector is not able to detect the language reliably.\n"
     ]
    },
    {
     "name": "stdout",
     "output_type": "stream",
     "text": [
      "Entity found екосистемата\n",
      "Entity found индивид\n",
      "\n",
      "82./2633...QUESTION IS\n",
      "Микроеволюцията е еволюционен процес, който може да доведе до образуване на нови:\n",
      "Entity found процес\n",
      "Entity found образуване\n"
     ]
    },
    {
     "name": "stderr",
     "output_type": "stream",
     "text": [
      "Detector is not able to detect the language reliably.\n"
     ]
    },
    {
     "name": "stdout",
     "output_type": "stream",
     "text": [
      "Entity found царства\n"
     ]
    },
    {
     "name": "stderr",
     "output_type": "stream",
     "text": [
      "Detector is not able to detect the language reliably.\n",
      "Detector is not able to detect the language reliably.\n",
      "Detector is not able to detect the language reliably.\n"
     ]
    },
    {
     "name": "stdout",
     "output_type": "stream",
     "text": [
      "Entity found типове\n",
      "Entity found родове\n",
      "\n",
      "83./2633...QUESTION IS\n",
      "Появата на половия процес в еволюцията, е пример за:\n",
      "Entity found Появата\n",
      "Entity found процес\n",
      "Entity found еволюцията\n",
      "Entity found пример\n"
     ]
    },
    {
     "name": "stderr",
     "output_type": "stream",
     "text": [
      "Detector is not able to detect the language reliably.\n",
      "Detector is not able to detect the language reliably.\n",
      "Detector is not able to detect the language reliably.\n"
     ]
    },
    {
     "name": "stdout",
     "output_type": "stream",
     "text": [
      "Another language found\n",
      "Another language found\n",
      "Another language found\n"
     ]
    },
    {
     "name": "stderr",
     "output_type": "stream",
     "text": [
      "Detector is not able to detect the language reliably.\n",
      "Detector is not able to detect the language reliably.\n",
      "Detector is not able to detect the language reliably.\n"
     ]
    },
    {
     "name": "stdout",
     "output_type": "stream",
     "text": [
      "\n",
      "84./2633...QUESTION IS\n",
      "Еволюционното развитие на човека се означава като:\n",
      "Entity found развитие\n",
      "Entity found човека\n",
      "Another language found\n",
      "Another language found\n",
      "Another language found\n",
      "\n",
      "85./2633...QUESTION IS\n",
      "Представителите на различните раси на вида Homo sapiens:\n",
      "Entity found ['Представителите']\n",
      "Entity found Представителите\n",
      "Entity found раси\n",
      "Entity found вида\n",
      "Entity found кариотип\n",
      "Entity found формата\n",
      "Entity found цепка\n",
      "Entity found цвят\n",
      "Entity found кожата\n",
      "Entity found големината\n",
      "Entity found формата\n",
      "Entity found носа\n",
      "\n",
      "86./2633...QUESTION IS\n",
      "Kое равнище на организация на живата материя се означава като мезосистема?\n",
      "Entity found равнище\n",
      "Entity found организация\n",
      "Entity found материя\n",
      "Entity found мезосистема\n"
     ]
    },
    {
     "name": "stderr",
     "output_type": "stream",
     "text": [
      "Detector is not able to detect the language reliably.\n",
      "Detector is not able to detect the language reliably.\n",
      "Detector is not able to detect the language reliably.\n",
      "Detector is not able to detect the language reliably.\n"
     ]
    },
    {
     "name": "stdout",
     "output_type": "stream",
     "text": [
      "Entity found организъм\n",
      "Entity found клетка\n",
      "Another language found\n",
      "\n",
      "87./2633...QUESTION IS\n",
      "Антропогенни екологични фактори са:\n",
      "Entity found фактори\n",
      "Entity found взаимодействията\n"
     ]
    },
    {
     "name": "stderr",
     "output_type": "stream",
     "text": [
      "Detector is not able to detect the language reliably.\n"
     ]
    },
    {
     "name": "stdout",
     "output_type": "stream",
     "text": [
      "Entity found индивидите\n",
      "Entity found видове\n",
      "Entity found ['факторите']\n",
      "Entity found факторите\n",
      "Entity found природа\n",
      "Entity found взаимодействията\n",
      "Entity found индивидите\n",
      "Entity found вид\n",
      "Entity found човека\n",
      "Entity found организмите\n",
      "Entity found средата\n",
      "\n",
      "88./2633...QUESTION IS\n",
      "Пространствена, демографска и генетична структура са характерни за:\n",
      "Entity found структура\n",
      "Entity found за\n"
     ]
    },
    {
     "name": "stderr",
     "output_type": "stream",
     "text": [
      "Detector is not able to detect the language reliably.\n"
     ]
    },
    {
     "name": "stdout",
     "output_type": "stream",
     "text": [
      "Entity found рода\n"
     ]
    },
    {
     "name": "stderr",
     "output_type": "stream",
     "text": [
      "Detector is not able to detect the language reliably.\n",
      "Detector is not able to detect the language reliably.\n"
     ]
    },
    {
     "name": "stdout",
     "output_type": "stream",
     "text": [
      "Entity found вида\n",
      "Entity found индивида\n",
      "Another language found\n"
     ]
    },
    {
     "name": "stderr",
     "output_type": "stream",
     "text": [
      "Detector is not able to detect the language reliably.\n"
     ]
    },
    {
     "name": "stdout",
     "output_type": "stream",
     "text": [
      "\n",
      "89./2633...QUESTION IS\n",
      "Екосистемата е единство от:\n",
      "Entity found Екосистемата\n",
      "Entity found единство\n"
     ]
    },
    {
     "name": "stderr",
     "output_type": "stream",
     "text": [
      "Detector is not able to detect the language reliably.\n",
      "Detector is not able to detect the language reliably.\n"
     ]
    },
    {
     "name": "stdout",
     "output_type": "stream",
     "text": [
      "Another language found\n",
      "Another language found\n",
      "Entity found индивиди\n",
      "Entity found вид\n",
      "\n",
      "90./2633...QUESTION IS\n",
      "Етажността в биоценозата се определя от:\n",
      "Entity found биоценозата\n",
      "Entity found разпределение\n",
      "Entity found видове\n",
      "Entity found разпределение\n",
      "Entity found видове\n",
      "Entity found подвижността\n",
      "Entity found видове\n",
      "Entity found разнообразието\n",
      "Entity found видове\n",
      "\n",
      "91./2633...QUESTION IS\n",
      "Невестулките унищожават мишки, жаби, гущери и др. Това е форма на:\n",
      "Entity found мишки\n",
      "Entity found жаби\n",
      "Entity found гущери\n",
      "Entity found форма\n",
      "Entity found поведение\n",
      "Entity found поведение\n",
      "Entity found поведение\n",
      "Entity found поведение\n",
      "\n",
      "92./2633...QUESTION IS\n",
      "Залежите от каменни въглища са част от:\n",
      "Entity found Залежите\n",
      "Entity found въглища\n",
      "Entity found част\n"
     ]
    },
    {
     "name": "stderr",
     "output_type": "stream",
     "text": [
      "Detector is not able to detect the language reliably.\n"
     ]
    },
    {
     "name": "stdout",
     "output_type": "stream",
     "text": [
      "Entity found стратосферата\n"
     ]
    },
    {
     "name": "stderr",
     "output_type": "stream",
     "text": [
      "Detector is not able to detect the language reliably.\n",
      "Detector is not able to detect the language reliably.\n"
     ]
    },
    {
     "name": "stdout",
     "output_type": "stream",
     "text": [
      "Entity found хидросферата\n",
      "Entity found атмосферата\n",
      "Entity found биосферата\n",
      "\n",
      "93./2633...QUESTION IS\n",
      "Основна причина за киселинните дъждове е увеличеното съдържание в атмосферата  на:\n",
      "Entity found причина\n",
      "Entity found дъждове\n",
      "Entity found съдържание\n"
     ]
    },
    {
     "name": "stderr",
     "output_type": "stream",
     "text": [
      "Detector is not able to detect the language reliably.\n"
     ]
    },
    {
     "name": "stdout",
     "output_type": "stream",
     "text": [
      "Entity found атмосферата\n",
      "Another language found\n",
      "Entity found пари\n"
     ]
    },
    {
     "name": "stderr",
     "output_type": "stream",
     "text": [
      "Detector is not able to detect the language reliably.\n",
      "Detector is not able to detect the language reliably.\n"
     ]
    },
    {
     "name": "stdout",
     "output_type": "stream",
     "text": [
      "Another language found\n",
      "Entity found прах\n",
      "\n",
      "94./2633...QUESTION IS\n",
      "Фигурата изобразява:\n",
      "Entity found Фигурата\n",
      "Entity found кръговрат\n"
     ]
    },
    {
     "name": "stderr",
     "output_type": "stream",
     "text": [
      "Detector is not able to detect the language reliably.\n"
     ]
    },
    {
     "name": "stdout",
     "output_type": "stream",
     "text": [
      "Entity found вещества\n",
      "Entity found поток\n",
      "Entity found енергия\n",
      "Entity found верига\n",
      "Entity found пирамида\n",
      "\n",
      "95./2633...QUESTION IS\n",
      "Кои от изброените съединения НЕ са биополимери?\n",
      "Entity found съединения\n"
     ]
    },
    {
     "name": "stderr",
     "output_type": "stream",
     "text": [
      "Detector is not able to detect the language reliably.\n",
      "Detector is not able to detect the language reliably.\n"
     ]
    },
    {
     "name": "stdout",
     "output_type": "stream",
     "text": [
      "Another language found\n",
      "Entity found белтъци\n",
      "Another language found\n",
      "Another language found\n",
      "\n",
      "96./2633...QUESTION IS\n",
      "За РНК е вярно, че:\n",
      "Entity found РНК\n"
     ]
    },
    {
     "name": "stderr",
     "output_type": "stream",
     "text": [
      "Detector is not able to detect the language reliably.\n"
     ]
    },
    {
     "name": "stdout",
     "output_type": "stream",
     "text": [
      "Entity found синтезата\n",
      "Entity found белтъци\n",
      "Entity found строеж\n",
      "Entity found клетки\n",
      "Entity found функция\n",
      "\n",
      "97./2633...QUESTION IS\n",
      "Митохондриите са клетъчни органели, които имат:\n",
      "Entity found Митохондриите\n",
      "Entity found органели\n",
      "Entity found строеж\n",
      "Entity found въглехидрати\n",
      "Entity found строеж\n",
      "Entity found белтъци\n",
      "Entity found строеж\n",
      "Entity found липиди\n",
      "Entity found строеж\n",
      "Entity found въглехидрати\n"
     ]
    },
    {
     "name": "stderr",
     "output_type": "stream",
     "text": [
      "Detector is not able to detect the language reliably.\n",
      "Detector is not able to detect the language reliably.\n"
     ]
    },
    {
     "name": "stdout",
     "output_type": "stream",
     "text": [
      "\n",
      "98./2633...QUESTION IS\n",
      "Пластиди се съдържат в клетки на:\n",
      "Entity found клетки\n",
      "Another language found\n",
      "Entity found гъби\n"
     ]
    },
    {
     "name": "stderr",
     "output_type": "stream",
     "text": [
      "Detector is not able to detect the language reliably.\n"
     ]
    },
    {
     "name": "stdout",
     "output_type": "stream",
     "text": [
      "Entity found растения\n"
     ]
    },
    {
     "name": "stderr",
     "output_type": "stream",
     "text": [
      "Detector is not able to detect the language reliably.\n"
     ]
    },
    {
     "name": "stdout",
     "output_type": "stream",
     "text": [
      "Another language found\n"
     ]
    },
    {
     "name": "stderr",
     "output_type": "stream",
     "text": [
      "Detector is not able to detect the language reliably.\n"
     ]
    },
    {
     "name": "stdout",
     "output_type": "stream",
     "text": [
      "\n",
      "99./2633...QUESTION IS\n",
      "Както прокариотните, така и еукариотните клетки притежават:\n",
      "Entity found клетки\n",
      "Entity found комплекс\n"
     ]
    },
    {
     "name": "stderr",
     "output_type": "stream",
     "text": [
      "Detector is not able to detect the language reliably.\n"
     ]
    },
    {
     "name": "stdout",
     "output_type": "stream",
     "text": [
      "Entity found апарат\n",
      "Another language found\n",
      "Another language found\n",
      "Another language found\n",
      "\n",
      "100./2633...QUESTION IS\n",
      "Свързването на нуклеотиди в полинуклеотидни вериги се осъществява по време на  клетъчните процеси, при които се синтезират:\n",
      "Entity found Свързването\n",
      "Entity found нуклеотиди\n",
      "Entity found вериги\n",
      "Entity found време\n"
     ]
    },
    {
     "name": "stderr",
     "output_type": "stream",
     "text": [
      "Detector is not able to detect the language reliably.\n"
     ]
    },
    {
     "name": "stdout",
     "output_type": "stream",
     "text": [
      "Entity found процеси\n",
      "Entity found белтъци\n",
      "Entity found въглехидрати\n",
      "Another language found\n",
      "Another language found\n",
      "\n",
      "101./2633...QUESTION IS\n",
      "Цикълът на Кребс е клетъчен процес, при който се разгражда:\n",
      "Entity found ['Кребс']\n",
      "Entity found Цикълът\n",
      "Entity found Кребс\n"
     ]
    },
    {
     "name": "stderr",
     "output_type": "stream",
     "text": [
      "Detector is not able to detect the language reliably.\n"
     ]
    },
    {
     "name": "stdout",
     "output_type": "stream",
     "text": [
      "Entity found процес\n",
      "Entity found глюкоза\n",
      "Entity found киселина\n",
      "Entity found цитозола\n"
     ]
    },
    {
     "name": "stderr",
     "output_type": "stream",
     "text": [
      "Detector is not able to detect the language reliably.\n",
      "Detector is not able to detect the language reliably.\n"
     ]
    },
    {
     "name": "stdout",
     "output_type": "stream",
     "text": [
      "Entity found глюкоза\n",
      "Entity found киселина\n",
      "Entity found цитозола\n",
      "Entity found ацетил\n",
      "Entity found КоА\n",
      "Entity found CO2\n",
      "Entity found митохондриите\n",
      "Entity found глюкоза\n",
      "Entity found алкохол\n",
      "Entity found цитозола\n",
      "\n",
      "102./2633...QUESTION IS\n",
      "Фотосинтетично фосфорилиране се извършва по време на:\n",
      "Entity found фосфорилиране\n"
     ]
    },
    {
     "name": "stderr",
     "output_type": "stream",
     "text": [
      "Detector is not able to detect the language reliably.\n"
     ]
    },
    {
     "name": "stdout",
     "output_type": "stream",
     "text": [
      "Entity found време\n",
      "Entity found ['цикъла']\n",
      "Entity found цикъла\n",
      "Entity found Кребс\n"
     ]
    },
    {
     "name": "stderr",
     "output_type": "stream",
     "text": [
      "Detector is not able to detect the language reliably.\n"
     ]
    },
    {
     "name": "stdout",
     "output_type": "stream",
     "text": [
      "Entity found ['цикъла', 'Калвин']\n",
      "Entity found цикъла\n",
      "Entity found гликолизата\n",
      "Entity found фаза\n",
      "Entity found фотосинтезата\n",
      "\n",
      "103./2633...QUESTION IS\n",
      "Митозата, за разлика от мейозата включва:\n",
      "Entity found Митозата\n",
      "Entity found разлика\n",
      "Entity found мейозата\n",
      "Entity found включва\n",
      "Entity found формиране\n",
      "Entity found хромозоми\n",
      "Entity found образуване\n",
      "Entity found вретено\n",
      "Entity found получаване\n",
      "Entity found клетки\n",
      "Entity found набор\n",
      "Entity found клетка\n",
      "Entity found съкращаване\n",
      "Entity found нишките\n",
      "Entity found вретено\n",
      "\n",
      "104./2633...QUESTION IS\n",
      "Цветът, семето и плодът на покритосеменните растения са примери за:\n",
      "Entity found Цветът\n",
      "Entity found семето\n",
      "Entity found плодът\n",
      "Entity found растения\n",
      "Entity found примери\n"
     ]
    },
    {
     "name": "stderr",
     "output_type": "stream",
     "text": [
      "Detector is not able to detect the language reliably.\n"
     ]
    },
    {
     "name": "stdout",
     "output_type": "stream",
     "text": [
      "Entity found клетки\n",
      "Entity found тъкани\n"
     ]
    },
    {
     "name": "stderr",
     "output_type": "stream",
     "text": [
      "Detector is not able to detect the language reliably.\n"
     ]
    },
    {
     "name": "stdout",
     "output_type": "stream",
     "text": [
      "Another language found\n",
      "Entity found органи\n",
      "\n",
      "105./2633...QUESTION IS\n",
      "При кое кръстосване се проследява едновременното унаследяване на два белега?\n",
      "Entity found кръстосване\n",
      "Entity found унаследяване\n",
      "Entity found белега\n"
     ]
    },
    {
     "name": "stderr",
     "output_type": "stream",
     "text": [
      "Detector is not able to detect the language reliably.\n",
      "Detector is not able to detect the language reliably.\n",
      "Detector is not able to detect the language reliably.\n",
      "Detector is not able to detect the language reliably.\n",
      "Detector is not able to detect the language reliably.\n",
      "Detector is not able to detect the language reliably.\n"
     ]
    },
    {
     "name": "stdout",
     "output_type": "stream",
     "text": [
      "\n",
      "106./2633...QUESTION IS\n",
      "Мутациите са:\n",
      "Entity found Мутациите\n",
      "Entity found изменения\n"
     ]
    },
    {
     "name": "stderr",
     "output_type": "stream",
     "text": [
      "Detector is not able to detect the language reliably.\n"
     ]
    },
    {
     "name": "stdout",
     "output_type": "stream",
     "text": [
      "Another language found\n",
      "Entity found изменения\n",
      "Entity found изменения\n",
      "\n",
      "107./2633...QUESTION IS\n",
      "Взаимодействие между алели на един ген, при което в хетерозиготните индивиди се  проявява белегът на единия родител, е:\n",
      "Entity found Взаимодействие\n",
      "Entity found алели\n",
      "Entity found ген\n",
      "Entity found индивиди\n",
      "Entity found белегът\n",
      "Entity found родител\n"
     ]
    },
    {
     "name": "stderr",
     "output_type": "stream",
     "text": [
      "Detector is not able to detect the language reliably.\n",
      "Detector is not able to detect the language reliably.\n"
     ]
    },
    {
     "name": "stdout",
     "output_type": "stream",
     "text": [
      "Entity found доминиране\n",
      "Entity found доминиране\n",
      "Another language found\n",
      "Entity found взаимодействие\n",
      "\n",
      "108./2633...QUESTION IS\n",
      "Кое от изброените равнища на организация на живата материя е компонент на  микросистемата?\n",
      "Entity found равнища\n",
      "Entity found организация\n",
      "Entity found материя\n",
      "Entity found компонент\n",
      "Entity found микросистемата\n"
     ]
    },
    {
     "name": "stderr",
     "output_type": "stream",
     "text": [
      "Detector is not able to detect the language reliably.\n",
      "Detector is not able to detect the language reliably.\n",
      "Detector is not able to detect the language reliably.\n"
     ]
    },
    {
     "name": "stdout",
     "output_type": "stream",
     "text": [
      "Another language found\n",
      "Entity found организъм\n",
      "Entity found екосистема\n"
     ]
    },
    {
     "name": "stderr",
     "output_type": "stream",
     "text": [
      "Detector is not able to detect the language reliably.\n"
     ]
    },
    {
     "name": "stdout",
     "output_type": "stream",
     "text": [
      "Another language found\n",
      "\n",
      "109./2633...QUESTION IS\n",
      "Количеството на екологичен фактор, което потиска развитието на даден организъм,  се нарича:\n",
      "Entity found Количеството\n",
      "Entity found фактор\n",
      "Entity found развитието\n",
      "Entity found организъм\n",
      "Entity found максимум\n",
      "Entity found песимум\n",
      "Entity found минимум\n",
      "Entity found оптимум\n",
      "\n",
      "110./2633...QUESTION IS\n",
      "Ако в една популация броят на младите и полово зрелите индивиди преобладава над  броя на възрастните, то тази популация е:\n",
      "Entity found популация\n",
      "Entity found броят\n"
     ]
    },
    {
     "name": "stderr",
     "output_type": "stream",
     "text": [
      "Detector is not able to detect the language reliably.\n",
      "Detector is not able to detect the language reliably.\n"
     ]
    },
    {
     "name": "stdout",
     "output_type": "stream",
     "text": [
      "Entity found индивиди\n",
      "Entity found броя\n",
      "Entity found популация\n",
      "Another language found\n",
      "\n",
      "111./2633...QUESTION IS\n",
      "Кръговратът на веществата и потокът на енергията са процеси, които протичат в:\n",
      "Entity found Кръговратът\n",
      "Entity found веществата\n",
      "Entity found потокът\n",
      "Entity found енергията\n"
     ]
    },
    {
     "name": "stderr",
     "output_type": "stream",
     "text": [
      "Detector is not able to detect the language reliably.\n",
      "Detector is not able to detect the language reliably.\n"
     ]
    },
    {
     "name": "stdout",
     "output_type": "stream",
     "text": [
      "Entity found процеси\n",
      "Another language found\n",
      "Entity found организма\n"
     ]
    },
    {
     "name": "stderr",
     "output_type": "stream",
     "text": [
      "Detector is not able to detect the language reliably.\n"
     ]
    },
    {
     "name": "stdout",
     "output_type": "stream",
     "text": [
      "Another language found\n",
      "Entity found екосистемата\n",
      "\n",
      "112./2633...QUESTION IS\n",
      "Дъбово дърво и организмите, свързани с него образуват:\n",
      "Entity found ['Дъбово']\n",
      "Entity found дърво\n"
     ]
    },
    {
     "name": "stderr",
     "output_type": "stream",
     "text": [
      "Detector is not able to detect the language reliably.\n",
      "Detector is not able to detect the language reliably.\n",
      "Detector is not able to detect the language reliably.\n",
      "Detector is not able to detect the language reliably.\n"
     ]
    },
    {
     "name": "stdout",
     "output_type": "stream",
     "text": [
      "Entity found организмите\n",
      "Entity found екосистема\n",
      "Another language found\n",
      "\n",
      "113./2633...QUESTION IS\n",
      "Някои видове сомове носят оплодения хайвер в устата си. Това е форма на:\n",
      "Entity found сомове\n",
      "Entity found хайвер\n",
      "Entity found устата\n",
      "Entity found .\n",
      "Entity found форма\n",
      "Entity found поведение\n",
      "Entity found поведение\n",
      "Entity found поведение\n",
      "Entity found поведение\n",
      "\n",
      "114./2633...QUESTION IS\n",
      "Единството от всички живи организми на Земята и заобикалящата ги нежива  природа образува:\n",
      "Entity found Единството\n",
      "Entity found организми\n",
      "Entity found Земята\n"
     ]
    },
    {
     "name": "stderr",
     "output_type": "stream",
     "text": [
      "Detector is not able to detect the language reliably.\n",
      "Detector is not able to detect the language reliably.\n",
      "Detector is not able to detect the language reliably.\n"
     ]
    },
    {
     "name": "stdout",
     "output_type": "stream",
     "text": [
      "Entity found природа\n",
      "Entity found екосистема\n"
     ]
    },
    {
     "name": "stderr",
     "output_type": "stream",
     "text": [
      "Detector is not able to detect the language reliably.\n"
     ]
    },
    {
     "name": "stdout",
     "output_type": "stream",
     "text": [
      "Another language found\n",
      "Another language found\n",
      "\n",
      "115./2633...QUESTION IS\n",
      "Разрушаването на озоновия слой може да стане причина за появата на:\n",
      "Entity found Разрушаването\n",
      "Entity found слой\n",
      "Entity found причина\n",
      "Entity found появата\n",
      "Entity found кожно\n",
      "Entity found заболявания\n",
      "Entity found заболявания\n",
      "Entity found система\n",
      "Entity found заболявания\n",
      "Entity found заболявания\n",
      "\n",
      "116./2633...QUESTION IS\n",
      "Най-разпространените химични елементи в живите организми са:\n",
      "Entity found елементи\n"
     ]
    },
    {
     "name": "stderr",
     "output_type": "stream",
     "text": [
      "Detector is not able to detect the language reliably.\n",
      "Detector is not able to detect the language reliably.\n",
      "Detector is not able to detect the language reliably.\n",
      "Detector is not able to detect the language reliably.\n"
     ]
    },
    {
     "name": "stdout",
     "output_type": "stream",
     "text": [
      "Entity found организми\n",
      "Another language found\n",
      "Another language found\n",
      "Another language found\n",
      "Another language found\n",
      "\n",
      "117./2633...QUESTION IS\n",
      "Кои функционални групи на аминокиселините участват в образуването на  пептидната връзка?\n",
      "Entity found групи\n",
      "Entity found аминокиселините\n",
      "Entity found образуването\n",
      "Entity found връзка\n"
     ]
    },
    {
     "name": "stderr",
     "output_type": "stream",
     "text": [
      "Detector is not able to detect the language reliably.\n",
      "Detector is not able to detect the language reliably.\n",
      "Detector is not able to detect the language reliably.\n",
      "Detector is not able to detect the language reliably.\n"
     ]
    },
    {
     "name": "stdout",
     "output_type": "stream",
     "text": [
      "Another language found\n",
      "Another language found\n",
      "Another language found\n",
      "Entity found ОН\n",
      "\n",
      "118./2633...QUESTION IS\n",
      "Нуклеотидите са мономери на:\n",
      "Entity found Нуклеотидите\n",
      "Entity found мономери\n"
     ]
    },
    {
     "name": "stderr",
     "output_type": "stream",
     "text": [
      "Detector is not able to detect the language reliably.\n",
      "Detector is not able to detect the language reliably.\n"
     ]
    },
    {
     "name": "stdout",
     "output_type": "stream",
     "text": [
      "Another language found\n",
      "Another language found\n",
      "Entity found белтъците\n",
      "Another language found\n",
      "\n",
      "119./2633...QUESTION IS\n",
      "Определете вярното съответствие между клетъчна структура и нейната функция.\n",
      "Entity found съответствие\n"
     ]
    },
    {
     "name": "stderr",
     "output_type": "stream",
     "text": [
      "Detector is not able to detect the language reliably.\n"
     ]
    },
    {
     "name": "stdout",
     "output_type": "stream",
     "text": [
      "Entity found структура\n",
      "Entity found функция\n",
      "Entity found ['лизозома']\n",
      "Entity found синтез\n"
     ]
    },
    {
     "name": "stderr",
     "output_type": "stream",
     "text": [
      "Detector is not able to detect the language reliably.\n"
     ]
    },
    {
     "name": "stdout",
     "output_type": "stream",
     "text": [
      "Entity found липиди\n",
      "Entity found мрежа\n"
     ]
    },
    {
     "name": "stderr",
     "output_type": "stream",
     "text": [
      "Detector is not able to detect the language reliably.\n"
     ]
    },
    {
     "name": "stdout",
     "output_type": "stream",
     "text": [
      "Entity found фотосинтеза\n",
      "Entity found комплекс\n",
      "Entity found синтез\n",
      "Entity found синтез\n",
      "Entity found белтъци\n"
     ]
    },
    {
     "name": "stderr",
     "output_type": "stream",
     "text": [
      "Detector is not able to detect the language reliably.\n",
      "Detector is not able to detect the language reliably.\n",
      "Detector is not able to detect the language reliably.\n"
     ]
    },
    {
     "name": "stdout",
     "output_type": "stream",
     "text": [
      "\n",
      "120./2633...QUESTION IS\n",
      "Както хлоропластите, така също и митохондриите:\n",
      "Entity found хлоропластите\n",
      "Entity found митохондриите\n",
      "Entity found органели\n",
      "Entity found фотосинтеза\n",
      "Entity found клетки\n",
      "\n",
      "121./2633...QUESTION IS\n",
      "Ролята на матрица в процеса транскрипция изпълнява:\n",
      "Entity found Ролята\n",
      "Entity found матрица\n",
      "Entity found процеса\n",
      "Entity found транскрипция\n"
     ]
    },
    {
     "name": "stderr",
     "output_type": "stream",
     "text": [
      "Detector is not able to detect the language reliably.\n"
     ]
    },
    {
     "name": "stdout",
     "output_type": "stream",
     "text": [
      "Entity found рРНК\n"
     ]
    },
    {
     "name": "stderr",
     "output_type": "stream",
     "text": [
      "Detector is not able to detect the language reliably.\n"
     ]
    },
    {
     "name": "stdout",
     "output_type": "stream",
     "text": [
      "Entity found иРНК\n"
     ]
    },
    {
     "name": "stderr",
     "output_type": "stream",
     "text": [
      "Detector is not able to detect the language reliably.\n",
      "Detector is not able to detect the language reliably.\n"
     ]
    },
    {
     "name": "stdout",
     "output_type": "stream",
     "text": [
      "\n",
      "122./2633...QUESTION IS\n",
      "Репликацията е процес, при който се синтезират:\n",
      "Entity found Репликацията\n"
     ]
    },
    {
     "name": "stderr",
     "output_type": "stream",
     "text": [
      "Detector is not able to detect the language reliably.\n",
      "Detector is not able to detect the language reliably.\n",
      "Detector is not able to detect the language reliably.\n"
     ]
    },
    {
     "name": "stdout",
     "output_type": "stream",
     "text": [
      "Entity found процес\n",
      "Another language found\n",
      "Another language found\n",
      "Entity found белтъци\n",
      "\n",
      "123./2633...QUESTION IS\n",
      "Гликолизата:\n",
      "Entity found Гликолизата\n",
      "Entity found синтез\n"
     ]
    },
    {
     "name": "stderr",
     "output_type": "stream",
     "text": [
      "Detector is not able to detect the language reliably.\n"
     ]
    },
    {
     "name": "stdout",
     "output_type": "stream",
     "text": [
      "Entity found път\n",
      "Entity found синтез\n",
      "Entity found глюкоза\n",
      "Entity found хлоропластите\n"
     ]
    },
    {
     "name": "stderr",
     "output_type": "stream",
     "text": [
      "Detector is not able to detect the language reliably.\n"
     ]
    },
    {
     "name": "stdout",
     "output_type": "stream",
     "text": [
      "\n",
      "124./2633...QUESTION IS\n",
      "Типът обмяна на вещества, характерен за човешкия организъм, е:\n",
      "Entity found обмяна\n",
      "Entity found вещества\n",
      "Entity found организъм\n",
      "Another language found\n",
      "Another language found\n",
      "Another language found\n",
      "Another language found\n",
      "\n",
      "125./2633...QUESTION IS\n",
      "Какъв е броят на хромозомите в половите клетки на човека (в норма)?\n",
      "Entity found броят\n",
      "Entity found хромозомите\n",
      "Entity found клетки\n",
      "Entity found човека\n",
      "Entity found норма\n"
     ]
    },
    {
     "name": "stderr",
     "output_type": "stream",
     "text": [
      "Detector is not able to detect the language reliably.\n",
      "Detector is not able to detect the language reliably.\n"
     ]
    },
    {
     "name": "stdout",
     "output_type": "stream",
     "text": [
      "Another language found\n"
     ]
    },
    {
     "name": "stderr",
     "output_type": "stream",
     "text": [
      "Detector is not able to detect the language reliably.\n"
     ]
    },
    {
     "name": "stdout",
     "output_type": "stream",
     "text": [
      "Another language found\n"
     ]
    },
    {
     "name": "stderr",
     "output_type": "stream",
     "text": [
      "Detector is not able to detect the language reliably.\n"
     ]
    },
    {
     "name": "stdout",
     "output_type": "stream",
     "text": [
      "Another language found\n",
      "Another language found\n",
      "\n",
      "126./2633...QUESTION IS\n",
      "Събитие, характерно само за мейоза, но не и за митоза, е:\n",
      "Entity found ['Събитие']\n",
      "Entity found Събитие\n",
      "Entity found мейоза\n",
      "Entity found митоза\n",
      "Entity found образуването\n",
      "Entity found хромозоми\n",
      "Entity found протичането\n",
      "Entity found кросинговър\n",
      "Entity found получаването\n",
      "Entity found клетки\n",
      "Entity found разрушаването\n",
      "Entity found обвивка\n",
      "\n",
      "127./2633...QUESTION IS\n",
      "Определете вярната йерархична последователност на структурите в мезосистемата.\n",
      "Entity found ['мезосистемата']\n",
      "Entity found последователност\n",
      "Entity found структурите\n",
      "Entity found мезосистемата\n",
      "Entity found тъкан\n",
      "Entity found орган\n",
      "Entity found система\n",
      "Entity found органи\n",
      "Entity found организъм\n",
      "Entity found орган\n",
      "Entity found тъкан\n",
      "Entity found система\n",
      "Entity found органи\n",
      "Entity found организъм\n",
      "Entity found организъм\n",
      "Entity found клетка\n",
      "Entity found орган\n",
      "Entity found система\n",
      "Entity found органи\n",
      "Entity found клетка\n",
      "Entity found тъкан\n",
      "Entity found организъм\n",
      "Entity found система\n",
      "Entity found органи\n",
      "\n",
      "128./2633...QUESTION IS\n",
      "Алел, който се проявява фенотипно както в хомозиготно, така и в хетерозиготно  състояние, наричаме:\n",
      "Entity found фенотипно\n",
      "Entity found състояние\n"
     ]
    },
    {
     "name": "stderr",
     "output_type": "stream",
     "text": [
      "Detector is not able to detect the language reliably.\n",
      "Detector is not able to detect the language reliably.\n",
      "Detector is not able to detect the language reliably.\n",
      "Detector is not able to detect the language reliably.\n"
     ]
    },
    {
     "name": "stdout",
     "output_type": "stream",
     "text": [
      "Another language found\n",
      "Another language found\n",
      "Another language found\n",
      "\n",
      "129./2633...QUESTION IS\n",
      "При кой тип неалелно взаимодействие на гените във F1 се появява нов белег?\n",
      "Entity found тип\n"
     ]
    },
    {
     "name": "stderr",
     "output_type": "stream",
     "text": [
      "Detector is not able to detect the language reliably.\n",
      "Detector is not able to detect the language reliably.\n",
      "Detector is not able to detect the language reliably.\n"
     ]
    },
    {
     "name": "stdout",
     "output_type": "stream",
     "text": [
      "Entity found взаимодействие\n",
      "Entity found гените\n",
      "Entity found белег\n",
      "Another language found\n",
      "Another language found\n",
      "\n",
      "130./2633...QUESTION IS\n",
      "Взаимоотношенията между организмите сe определят като:\n",
      "Entity found Взаимоотношенията\n",
      "Entity found организмите\n",
      "Entity found сe\n"
     ]
    },
    {
     "name": "stderr",
     "output_type": "stream",
     "text": [
      "Detector is not able to detect the language reliably.\n",
      "Detector is not able to detect the language reliably.\n",
      "Detector is not able to detect the language reliably.\n",
      "Detector is not able to detect the language reliably.\n"
     ]
    },
    {
     "name": "stdout",
     "output_type": "stream",
     "text": [
      "Entity found фактори\n",
      "Entity found фактор\n",
      "Entity found фактори\n",
      "Entity found фактори\n",
      "\n",
      "131./2633...QUESTION IS\n",
      "Определете НЕВЯРНОТО твърдение.\n",
      "Entity found твърдение\n",
      "Entity found популации\n",
      "Entity found видове\n",
      "Entity found Популацията\n",
      "Entity found съвкупност\n",
      "Entity found индивиди\n",
      "Entity found видове\n",
      "Entity found Биосферата\n",
      "Entity found екосистеми\n",
      "Entity found Екосистемата\n",
      "Entity found единство\n",
      "Entity found биотоп\n",
      "Entity found биоценоза\n",
      "\n",
      "132./2633...QUESTION IS\n",
      "Мъжката риба бодливка прави гнездо от подводна растителност, в което привлича женската, а по-късно охранява хайвера до излюпването на малките рибки. Това е  пример за:\n",
      "Entity found риба\n",
      "Entity found бодливка\n",
      "Entity found гнездо\n",
      "Entity found растителност\n",
      "Entity found хайвера\n",
      "Entity found излюпването\n",
      "Entity found рибки\n",
      "Entity found пример\n",
      "Entity found поведение\n",
      "Entity found поведение\n",
      "Entity found поведение\n",
      "Entity found поведение\n",
      "\n",
      "133./2633...QUESTION IS\n",
      "Кое свойство е присъщо на екосистемите?\n",
      "Entity found свойство\n",
      "Entity found присъщо\n",
      "Entity found екосистемите\n",
      "Entity found раждаемост\n",
      "Entity found продуктивност\n",
      "Entity found смъртност\n",
      "\n",
      "134./2633...QUESTION IS\n",
      "При кой процес в атмосферата НЕ се отделя въглероден диоксид?\n",
      "Entity found процес\n",
      "Entity found атмосферата\n",
      "Entity found диоксид\n"
     ]
    },
    {
     "name": "stderr",
     "output_type": "stream",
     "text": [
      "Detector is not able to detect the language reliably.\n"
     ]
    },
    {
     "name": "stdout",
     "output_type": "stream",
     "text": [
      "Entity found дейност\n",
      "Entity found дишане\n"
     ]
    },
    {
     "name": "stderr",
     "output_type": "stream",
     "text": [
      "Detector is not able to detect the language reliably.\n",
      "Detector is not able to detect the language reliably.\n"
     ]
    },
    {
     "name": "stdout",
     "output_type": "stream",
     "text": [
      "Entity found фотосинтеза\n",
      "Another language found\n",
      "\n",
      "135./2633...QUESTION IS\n",
      "Кой от записаните химични елементи е микроелемент за клетката?\n",
      "Entity found елементи\n",
      "Entity found микроелемент\n"
     ]
    },
    {
     "name": "stderr",
     "output_type": "stream",
     "text": [
      "Detector is not able to detect the language reliably.\n",
      "Detector is not able to detect the language reliably.\n",
      "Detector is not able to detect the language reliably.\n",
      "Detector is not able to detect the language reliably.\n"
     ]
    },
    {
     "name": "stdout",
     "output_type": "stream",
     "text": [
      "Entity found клетката\n",
      "Another language found\n",
      "Another language found\n",
      "Another language found\n",
      "Another language found\n",
      "\n",
      "136./2633...QUESTION IS\n",
      "Определете вярното съотношение.\n",
      "Entity found съотношение\n"
     ]
    },
    {
     "name": "stderr",
     "output_type": "stream",
     "text": [
      "Detector is not able to detect the language reliably.\n"
     ]
    },
    {
     "name": "stdout",
     "output_type": "stream",
     "text": [
      "Entity found ДНК\n"
     ]
    },
    {
     "name": "stderr",
     "output_type": "stream",
     "text": [
      "Detector is not able to detect the language reliably.\n"
     ]
    },
    {
     "name": "stdout",
     "output_type": "stream",
     "text": [
      "Entity found аминокиселина\n",
      "Entity found аминокиселина\n",
      "Entity found нуклеотид\n",
      "Entity found белтък\n"
     ]
    },
    {
     "name": "stderr",
     "output_type": "stream",
     "text": [
      "Detector is not able to detect the language reliably.\n"
     ]
    },
    {
     "name": "stdout",
     "output_type": "stream",
     "text": [
      "\n",
      "137./2633...QUESTION IS\n",
      "Хлоропластите и митохондриите са:\n",
      "Entity found ['Хлоропластите']\n"
     ]
    },
    {
     "name": "stderr",
     "output_type": "stream",
     "text": [
      "Detector is not able to detect the language reliably.\n"
     ]
    },
    {
     "name": "stdout",
     "output_type": "stream",
     "text": [
      "Entity found Хлоропластите\n",
      "Entity found митохондриите\n",
      "Entity found органели\n",
      "Entity found клетки\n",
      "Entity found ['двумембранни']\n",
      "Entity found органели\n",
      "Entity found клетки\n",
      "Entity found органели\n",
      "Entity found клетки\n",
      "Entity found органели\n",
      "Entity found клетки\n"
     ]
    },
    {
     "name": "stderr",
     "output_type": "stream",
     "text": [
      "Detector is not able to detect the language reliably.\n"
     ]
    },
    {
     "name": "stdout",
     "output_type": "stream",
     "text": [
      "\n",
      "138./2633...QUESTION IS\n",
      "Общ компонент за прокариотните и еукариотните клетки е:\n",
      "Entity found компонент\n",
      "Entity found клетки\n",
      "Entity found ['Голджи']\n",
      "Entity found апаратът\n"
     ]
    },
    {
     "name": "stderr",
     "output_type": "stream",
     "text": [
      "Detector is not able to detect the language reliably.\n"
     ]
    },
    {
     "name": "stdout",
     "output_type": "stream",
     "text": [
      "Another language found\n",
      "Entity found мрежа\n"
     ]
    },
    {
     "name": "stderr",
     "output_type": "stream",
     "text": [
      "Detector is not able to detect the language reliably.\n"
     ]
    },
    {
     "name": "stdout",
     "output_type": "stream",
     "text": [
      "Entity found цитоплазмата\n",
      "\n",
      "139./2633...QUESTION IS\n",
      "Преносът на аминокиселини чрез тРНК до рибозомите става по време на клетъчен процес, при който се синтезират:\n",
      "Entity found Преносът\n",
      "Entity found аминокиселини\n",
      "Entity found тРНК\n"
     ]
    },
    {
     "name": "stderr",
     "output_type": "stream",
     "text": [
      "Detector is not able to detect the language reliably.\n"
     ]
    },
    {
     "name": "stdout",
     "output_type": "stream",
     "text": [
      "Entity found рибозомите\n",
      "Entity found време\n",
      "Entity found процес\n",
      "Entity found въглехидрати\n",
      "Another language found\n",
      "Entity found белтъци\n",
      "Another language found\n"
     ]
    },
    {
     "name": "stderr",
     "output_type": "stream",
     "text": [
      "Detector is not able to detect the language reliably.\n",
      "Detector is not able to detect the language reliably.\n",
      "Detector is not able to detect the language reliably.\n",
      "Detector is not able to detect the language reliably.\n"
     ]
    },
    {
     "name": "stdout",
     "output_type": "stream",
     "text": [
      "\n",
      "140./2633...QUESTION IS\n",
      "Кислородът, който се отделя в атмосферата при фотосинтеза, произхожда от молекули на:\n",
      "Entity found Кислородът\n",
      "Entity found атмосферата\n",
      "Entity found фотосинтеза\n",
      "Entity found молекули\n",
      "Another language found\n",
      "Another language found\n",
      "Another language found\n",
      "\n",
      "141./2633...QUESTION IS\n",
      "Разграждане на ацетил-КоА в митохондриите се извършва по време на:\n",
      "Entity found Разграждане\n"
     ]
    },
    {
     "name": "stderr",
     "output_type": "stream",
     "text": [
      "Detector is not able to detect the language reliably.\n"
     ]
    },
    {
     "name": "stdout",
     "output_type": "stream",
     "text": [
      "Entity found ацетил\n",
      "Entity found КоА\n",
      "Entity found митохондриите\n",
      "Entity found време\n",
      "Entity found ферментация\n"
     ]
    },
    {
     "name": "stderr",
     "output_type": "stream",
     "text": [
      "Detector is not able to detect the language reliably.\n"
     ]
    },
    {
     "name": "stdout",
     "output_type": "stream",
     "text": [
      "Entity found ['Калвин']\n",
      "Entity found цикъл\n"
     ]
    },
    {
     "name": "stderr",
     "output_type": "stream",
     "text": [
      "Detector is not able to detect the language reliably.\n",
      "Detector is not able to detect the language reliably.\n"
     ]
    },
    {
     "name": "stdout",
     "output_type": "stream",
     "text": [
      "Entity found гликолиза\n",
      "Entity found ['цикъл']\n",
      "Entity found цикъл\n",
      "Entity found Кребс\n"
     ]
    },
    {
     "name": "stderr",
     "output_type": "stream",
     "text": [
      "Detector is not able to detect the language reliably.\n"
     ]
    },
    {
     "name": "stdout",
     "output_type": "stream",
     "text": [
      "\n",
      "142./2633...QUESTION IS\n",
      "Митозата:\n",
      "Entity found Митозата\n",
      "Entity found делене\n",
      "Entity found клетки\n",
      "Entity found образуване\n",
      "Entity found клетки\n",
      "Entity found образуване\n",
      "Entity found клетки\n",
      "Entity found процеса\n",
      "\n",
      "143./2633...QUESTION IS\n",
      "Когато диплоидна клетка с 16 хромозоми се раздели чрез мейоза, се получават:\n",
      "Entity found клетка\n",
      "Entity found хромозоми\n",
      "Entity found мейоза\n",
      "Entity found клетки\n",
      "Entity found хромозоми\n",
      "Entity found клетки\n",
      "Entity found хромозоми\n",
      "Entity found клетки\n",
      "Entity found хромозоми\n",
      "Entity found клетки\n",
      "Entity found хромозоми\n"
     ]
    },
    {
     "name": "stderr",
     "output_type": "stream",
     "text": [
      "Detector is not able to detect the language reliably.\n"
     ]
    },
    {
     "name": "stdout",
     "output_type": "stream",
     "text": [
      "\n",
      "144./2633...QUESTION IS\n",
      "Колко на брой са хромозомите в представената кариограма на човек?\n",
      "Entity found брой\n",
      "Entity found кариограма\n"
     ]
    },
    {
     "name": "stderr",
     "output_type": "stream",
     "text": [
      "Detector is not able to detect the language reliably.\n"
     ]
    },
    {
     "name": "stdout",
     "output_type": "stream",
     "text": [
      "Entity found човек\n"
     ]
    },
    {
     "name": "stderr",
     "output_type": "stream",
     "text": [
      "Detector is not able to detect the language reliably.\n"
     ]
    },
    {
     "name": "stdout",
     "output_type": "stream",
     "text": [
      "Another language found\n"
     ]
    },
    {
     "name": "stderr",
     "output_type": "stream",
     "text": [
      "Detector is not able to detect the language reliably.\n"
     ]
    },
    {
     "name": "stdout",
     "output_type": "stream",
     "text": [
      "Another language found\n"
     ]
    },
    {
     "name": "stderr",
     "output_type": "stream",
     "text": [
      "Detector is not able to detect the language reliably.\n"
     ]
    },
    {
     "name": "stdout",
     "output_type": "stream",
     "text": [
      "Another language found\n",
      "Another language found\n"
     ]
    },
    {
     "name": "stderr",
     "output_type": "stream",
     "text": [
      "Detector is not able to detect the language reliably.\n"
     ]
    },
    {
     "name": "stdout",
     "output_type": "stream",
     "text": [
      "\n",
      "145./2633...QUESTION IS\n",
      "Коя от изброените биологични системи съществува самостоятелно в естествени условия?\n",
      "Entity found системи\n",
      "Entity found условия\n",
      "Entity found система\n",
      "Entity found органи\n"
     ]
    },
    {
     "name": "stderr",
     "output_type": "stream",
     "text": [
      "Detector is not able to detect the language reliably.\n",
      "Detector is not able to detect the language reliably.\n",
      "Detector is not able to detect the language reliably.\n"
     ]
    },
    {
     "name": "stdout",
     "output_type": "stream",
     "text": [
      "Entity found организъм\n",
      "Another language found\n",
      "Another language found\n",
      "\n",
      "146./2633...QUESTION IS\n",
      "На графиката е представена зависимост на скоростта на ензимна реакция от температурата. Кое твърдение най-вярно описва графиката?   скоростта на реакцията нараства и след  достигане на максимум бързо намалява.  скоростта на реакцията непрекъснато  нараства.  скоростта на реакцията непрекъснато  намалява.  скоростта на реакцията остава  непроменена.\n",
      "Entity found графиката\n",
      "Entity found зависимост\n",
      "Entity found скоростта\n",
      "Entity found реакция\n",
      "Entity found температурата\n",
      "Entity found твърдение\n",
      "Entity found графиката\n",
      "Entity found скоростта\n",
      "Entity found реакцията\n",
      "Entity found достигане\n",
      "Entity found максимум\n",
      "Entity found скоростта\n",
      "Entity found реакцията\n",
      "Entity found скоростта\n",
      "Entity found реакцията\n",
      "Entity found скоростта\n",
      "Entity found реакцията\n",
      "Entity found промяна\n",
      "Entity found температурата\n",
      "Entity found нарастване\n",
      "Entity found температурата\n",
      "Entity found нарастване\n",
      "Entity found температурата\n",
      "Entity found нарастване\n",
      "Entity found температурата\n",
      "\n",
      "147./2633...QUESTION IS\n",
      "Потъмняването на кожата на човек под въздействие на слънчевите лъчи е пример за:\n",
      "Entity found кожата\n",
      "Entity found човек\n",
      "Entity found въздействие\n",
      "Entity found лъчи\n",
      "Entity found пример\n"
     ]
    },
    {
     "name": "stderr",
     "output_type": "stream",
     "text": [
      "Detector is not able to detect the language reliably.\n"
     ]
    },
    {
     "name": "stdout",
     "output_type": "stream",
     "text": [
      "Entity found ['генотипна']\n",
      "Entity found изменчивост\n"
     ]
    },
    {
     "name": "stderr",
     "output_type": "stream",
     "text": [
      "Detector is not able to detect the language reliably.\n"
     ]
    },
    {
     "name": "stdout",
     "output_type": "stream",
     "text": [
      "Another language found\n",
      "Entity found изменчивост\n",
      "Another language found\n",
      "\n",
      "148./2633...QUESTION IS\n",
      "Как се нарича взаимодействието, при което доминантните алели на два гена, попаднали в общ генотип, формират фенотип, различен от фенотипите, които гените  определят поотделно?\n",
      "Entity found взаимодействието\n",
      "Entity found алели\n",
      "Entity found гена\n",
      "Entity found генотип\n",
      "Entity found фенотип\n"
     ]
    },
    {
     "name": "stderr",
     "output_type": "stream",
     "text": [
      "Detector is not able to detect the language reliably.\n",
      "Detector is not able to detect the language reliably.\n",
      "Detector is not able to detect the language reliably.\n"
     ]
    },
    {
     "name": "stdout",
     "output_type": "stream",
     "text": [
      "Entity found гените\n",
      "Entity found доминиране\n",
      "Entity found взаимодействие\n",
      "Entity found доминиране\n",
      "Another language found\n",
      "\n",
      "149./2633...QUESTION IS\n",
      "Към коя група екологични фактори принадлежат светлината, температурата и  водата?\n",
      "Entity found група\n",
      "Entity found фактори\n",
      "Entity found светлината\n"
     ]
    },
    {
     "name": "stderr",
     "output_type": "stream",
     "text": [
      "Detector is not able to detect the language reliably.\n",
      "Detector is not able to detect the language reliably.\n",
      "Detector is not able to detect the language reliably.\n",
      "Detector is not able to detect the language reliably.\n"
     ]
    },
    {
     "name": "stdout",
     "output_type": "stream",
     "text": [
      "Entity found температурата\n",
      "Entity found водата\n",
      "\n",
      "150./2633...QUESTION IS\n",
      "В популациите броят на индивидите върху единица площ (в единица обем) се  определя като:\n",
      "Entity found популациите\n",
      "Entity found броят\n",
      "Entity found индивидите\n",
      "Entity found единица\n",
      "Entity found площ\n",
      "Entity found единица\n",
      "Entity found обем\n",
      "Entity found раждаемост\n",
      "Entity found численост\n",
      "Entity found смъртност\n",
      "Entity found плътност\n",
      "\n",
      "151./2633...QUESTION IS\n",
      "Определете НЕВЯРНОТО твърдение.\n",
      "Entity found твърдение\n",
      "Entity found популации\n",
      "Entity found Популацията\n",
      "Entity found съвкупност\n",
      "Entity found индивиди\n",
      "Entity found Екосистемата\n",
      "Entity found единство\n",
      "Entity found биотоп\n",
      "Entity found биоценоза\n",
      "Entity found Биосферата\n",
      "Entity found единство\n",
      "Entity found екосистеми\n"
     ]
    },
    {
     "name": "stderr",
     "output_type": "stream",
     "text": [
      "Detector is not able to detect the language reliably.\n"
     ]
    },
    {
     "name": "stdout",
     "output_type": "stream",
     "text": [
      "\n",
      "152./2633...QUESTION IS\n",
      "Мъжките пауни, фазани и райски птици демонстрират пред женските опашките си с  великолепни цветове на перата. Това е пример за:\n",
      "Entity found Мъжките\n",
      "Entity found пауни\n",
      "Entity found фазани\n",
      "Entity found птици\n",
      "Entity found опашките\n",
      "Entity found цветове\n",
      "Entity found перата\n",
      "Entity found пример\n",
      "Entity found поведение\n",
      "Entity found поведение\n",
      "Entity found поведение\n",
      "Entity found поведение\n",
      "\n",
      "153./2633...QUESTION IS\n",
      "Кои процеси са характерни за биосферата като макросистема?\n",
      "Entity found процеси\n",
      "Entity found биосферата\n",
      "Entity found макросистема\n",
      "Entity found движение\n",
      "Entity found растеж\n",
      "Entity found размножаване\n",
      "Entity found кръговрат\n",
      "Entity found веществата\n",
      "Entity found поток\n",
      "Entity found енергията\n",
      "Entity found хранене\n",
      "Entity found дишане\n",
      "\n",
      "154./2633...QUESTION IS\n",
      "Процес, който осигурява кислород в атмосферата, е:\n",
      "Entity found Процес\n",
      "Entity found кислород\n",
      "Entity found атмосферата\n",
      "Entity found дейност\n",
      "Entity found горенето\n"
     ]
    },
    {
     "name": "stderr",
     "output_type": "stream",
     "text": [
      "Detector is not able to detect the language reliably.\n"
     ]
    },
    {
     "name": "stdout",
     "output_type": "stream",
     "text": [
      "Entity found фотосинтезата\n",
      "Entity found дишането\n",
      "\n",
      "155./2633...QUESTION IS\n",
      "Кой от химичните елементи е макроелемент за клетката?\n",
      "Entity found елементи\n",
      "Entity found макроелемент\n"
     ]
    },
    {
     "name": "stderr",
     "output_type": "stream",
     "text": [
      "Detector is not able to detect the language reliably.\n",
      "Detector is not able to detect the language reliably.\n",
      "Detector is not able to detect the language reliably.\n",
      "Detector is not able to detect the language reliably.\n"
     ]
    },
    {
     "name": "stdout",
     "output_type": "stream",
     "text": [
      "Entity found клетката\n",
      "Another language found\n",
      "Another language found\n",
      "Another language found\n",
      "Another language found\n"
     ]
    },
    {
     "name": "stderr",
     "output_type": "stream",
     "text": [
      "Detector is not able to detect the language reliably.\n",
      "Detector is not able to detect the language reliably.\n"
     ]
    },
    {
     "name": "stdout",
     "output_type": "stream",
     "text": [
      "\n",
      "156./2633...QUESTION IS\n",
      "Рибозомите са:\n",
      "Entity found Рибозомите\n",
      "Entity found ['двумембранни']\n",
      "Entity found органели\n",
      "Entity found клетки\n",
      "Entity found органели\n",
      "Entity found клетки\n",
      "Entity found органели\n",
      "Entity found клетки\n",
      "Entity found органели\n",
      "Entity found клетки\n",
      "\n",
      "157./2633...QUESTION IS\n",
      "Общо в структурата на растителните и животинските клетки е наличието на:\n",
      "Entity found структурата\n",
      "Entity found клетки\n",
      "Entity found наличието\n"
     ]
    },
    {
     "name": "stderr",
     "output_type": "stream",
     "text": [
      "Detector is not able to detect the language reliably.\n",
      "Detector is not able to detect the language reliably.\n",
      "Detector is not able to detect the language reliably.\n"
     ]
    },
    {
     "name": "stdout",
     "output_type": "stream",
     "text": [
      "Another language found\n",
      "Another language found\n",
      "Entity found вакуола\n"
     ]
    },
    {
     "name": "stderr",
     "output_type": "stream",
     "text": [
      "Detector is not able to detect the language reliably.\n"
     ]
    },
    {
     "name": "stdout",
     "output_type": "stream",
     "text": [
      "Entity found стена\n",
      "\n",
      "158./2633...QUESTION IS\n",
      "Свързването на иРНК с рибозоми се осъществява в началото на клетъчен процес,  при който се синтезират:\n",
      "Entity found Свързването\n",
      "Entity found иРНК\n",
      "Entity found рибозоми\n",
      "Entity found началото\n"
     ]
    },
    {
     "name": "stderr",
     "output_type": "stream",
     "text": [
      "Detector is not able to detect the language reliably.\n"
     ]
    },
    {
     "name": "stdout",
     "output_type": "stream",
     "text": [
      "Entity found процес\n",
      "Another language found\n",
      "Entity found белтъци\n",
      "Another language found\n",
      "Entity found въглехидрати\n"
     ]
    },
    {
     "name": "stderr",
     "output_type": "stream",
     "text": [
      "Detector is not able to detect the language reliably.\n",
      "Detector is not able to detect the language reliably.\n"
     ]
    },
    {
     "name": "stdout",
     "output_type": "stream",
     "text": [
      "\n",
      "159./2633...QUESTION IS\n",
      "През светлинната фаза на фотосинтезата се образува:\n",
      "Entity found фаза\n",
      "Entity found фотосинтезата\n",
      "Another language found\n",
      "Entity found О2\n"
     ]
    },
    {
     "name": "stderr",
     "output_type": "stream",
     "text": [
      "Detector is not able to detect the language reliably.\n",
      "Detector is not able to detect the language reliably.\n"
     ]
    },
    {
     "name": "stdout",
     "output_type": "stream",
     "text": [
      "Another language found\n",
      "Another language found\n",
      "\n",
      "160./2633...QUESTION IS\n",
      "Процесът на разграждане на глюкозата до пирогроздена киселина (пируват) се  нарича:\n",
      "Entity found Процесът\n",
      "Entity found разграждане\n",
      "Entity found глюкозата\n"
     ]
    },
    {
     "name": "stderr",
     "output_type": "stream",
     "text": [
      "Detector is not able to detect the language reliably.\n"
     ]
    },
    {
     "name": "stdout",
     "output_type": "stream",
     "text": [
      "Entity found киселина\n",
      "Entity found ['Калвин']\n",
      "Entity found цикъл\n"
     ]
    },
    {
     "name": "stderr",
     "output_type": "stream",
     "text": [
      "Detector is not able to detect the language reliably.\n",
      "Detector is not able to detect the language reliably.\n"
     ]
    },
    {
     "name": "stdout",
     "output_type": "stream",
     "text": [
      "Entity found ферментация\n",
      "Entity found ['цикъл']\n",
      "Entity found цикъл\n",
      "Entity found Кребс\n"
     ]
    },
    {
     "name": "stderr",
     "output_type": "stream",
     "text": [
      "Detector is not able to detect the language reliably.\n"
     ]
    },
    {
     "name": "stdout",
     "output_type": "stream",
     "text": [
      "Entity found гликолиза\n"
     ]
    },
    {
     "name": "stderr",
     "output_type": "stream",
     "text": [
      "Detector is not able to detect the language reliably.\n"
     ]
    },
    {
     "name": "stdout",
     "output_type": "stream",
     "text": [
      "\n",
      "161./2633...QUESTION IS\n",
      "Мейозата:\n",
      "Entity found Мейозата\n",
      "Entity found делене\n",
      "Entity found клетки\n",
      "Entity found образуване\n",
      "Entity found клетки\n",
      "Entity found образуване\n",
      "Entity found клетки\n",
      "Entity found делене\n",
      "Entity found клетки\n",
      "\n",
      "162./2633...QUESTION IS\n",
      "Когато диплоидна клетка с 22 хромозоми се раздели чрез митоза, се получават:\n",
      "Entity found клетка\n",
      "Entity found хромозоми\n",
      "Entity found митоза\n",
      "Entity found клетки\n",
      "Entity found хромозоми\n",
      "Entity found клетки\n",
      "Entity found хромозоми\n",
      "Entity found клетки\n",
      "Entity found хромозоми\n",
      "Entity found клетки\n",
      "Entity found хромозоми\n",
      "\n",
      "163./2633...QUESTION IS\n",
      "Колко на брой са хромозомите в соматична клетка на домашна котка (виж  кариограмата)?\n",
      "Entity found брой\n",
      "Entity found клетка\n",
      "Entity found котка\n"
     ]
    },
    {
     "name": "stderr",
     "output_type": "stream",
     "text": [
      "Detector is not able to detect the language reliably.\n",
      "Detector is not able to detect the language reliably.\n"
     ]
    },
    {
     "name": "stdout",
     "output_type": "stream",
     "text": [
      "Another language found\n"
     ]
    },
    {
     "name": "stderr",
     "output_type": "stream",
     "text": [
      "Detector is not able to detect the language reliably.\n"
     ]
    },
    {
     "name": "stdout",
     "output_type": "stream",
     "text": [
      "Another language found\n"
     ]
    },
    {
     "name": "stderr",
     "output_type": "stream",
     "text": [
      "Detector is not able to detect the language reliably.\n"
     ]
    },
    {
     "name": "stdout",
     "output_type": "stream",
     "text": [
      "Another language found\n",
      "Another language found\n",
      "\n",
      "164./2633...QUESTION IS\n",
      "Съвкупност от клетки с общ произход, сходна структура и функция и  междуклетъчното вещество около тях се нарича:\n",
      "Entity found Съвкупност\n",
      "Entity found клетки\n",
      "Entity found произход\n",
      "Entity found структура\n",
      "Entity found функция\n",
      "Entity found вещество\n"
     ]
    },
    {
     "name": "stderr",
     "output_type": "stream",
     "text": [
      "Detector is not able to detect the language reliably.\n",
      "Detector is not able to detect the language reliably.\n",
      "Detector is not able to detect the language reliably.\n",
      "Detector is not able to detect the language reliably.\n"
     ]
    },
    {
     "name": "stdout",
     "output_type": "stream",
     "text": [
      "Another language found\n",
      "Another language found\n",
      "Entity found организъм\n",
      "Entity found система\n",
      "Entity found органи\n",
      "\n",
      "165./2633...QUESTION IS\n",
      "Пример за мутационна изменчивост е:\n",
      "Entity found Пример\n",
      "Entity found изменчивост\n",
      "Entity found натрупването\n",
      "Entity found мазнина\n",
      "Entity found животни\n",
      "Entity found зимата\n",
      "Entity found смяната\n",
      "Entity found цвета\n",
      "Entity found козината\n",
      "Entity found животни\n",
      "Entity found зимата\n",
      "Entity found липсата\n",
      "Entity found пигментация\n",
      "Entity found кожата\n",
      "Entity found хора\n",
      "Entity found кожата\n",
      "Entity found хората\n",
      "Entity found лятото\n",
      "\n",
      "166./2633...QUESTION IS\n",
      "Взаимодействие между алели на два гена, при което алел на единия ген потиска  фенотипната проява на алел на другия ген, се нарича:\n",
      "Entity found Взаимодействие\n",
      "Entity found алели\n",
      "Entity found гена\n",
      "Entity found алел\n",
      "Entity found ген\n",
      "Entity found проява\n"
     ]
    },
    {
     "name": "stderr",
     "output_type": "stream",
     "text": [
      "Detector is not able to detect the language reliably.\n",
      "Detector is not able to detect the language reliably.\n"
     ]
    },
    {
     "name": "stdout",
     "output_type": "stream",
     "text": [
      "Entity found алел\n",
      "Entity found ген\n",
      "Entity found доминиране\n"
     ]
    },
    {
     "name": "stderr",
     "output_type": "stream",
     "text": [
      "Detector is not able to detect the language reliably.\n"
     ]
    },
    {
     "name": "stdout",
     "output_type": "stream",
     "text": [
      "Another language found\n",
      "Entity found взаимодействие\n",
      "Entity found доминиране\n"
     ]
    },
    {
     "name": "stderr",
     "output_type": "stream",
     "text": [
      "Detector is not able to detect the language reliably.\n"
     ]
    },
    {
     "name": "stdout",
     "output_type": "stream",
     "text": [
      "\n",
      "167./2633...QUESTION IS\n",
      "Пример за коя група екологични фактори е масовото изсичане на влажните  тропически гори?\n",
      "Entity found Пример\n",
      "Entity found група\n",
      "Entity found фактори\n",
      "Entity found изсичане\n",
      "Entity found гори\n"
     ]
    },
    {
     "name": "stderr",
     "output_type": "stream",
     "text": [
      "Detector is not able to detect the language reliably.\n",
      "Detector is not able to detect the language reliably.\n",
      "Detector is not able to detect the language reliably.\n",
      "Detector is not able to detect the language reliably.\n"
     ]
    },
    {
     "name": "stdout",
     "output_type": "stream",
     "text": [
      "Another language found\n",
      "\n",
      "168./2633...QUESTION IS\n",
      "Всички организми в едно езеро образуват:\n",
      "Entity found организми\n",
      "Entity found езеро\n"
     ]
    },
    {
     "name": "stderr",
     "output_type": "stream",
     "text": [
      "Detector is not able to detect the language reliably.\n",
      "Detector is not able to detect the language reliably.\n",
      "Detector is not able to detect the language reliably.\n"
     ]
    },
    {
     "name": "stdout",
     "output_type": "stream",
     "text": [
      "Entity found екосистема\n",
      "Another language found\n"
     ]
    },
    {
     "name": "stderr",
     "output_type": "stream",
     "text": [
      "Detector is not able to detect the language reliably.\n"
     ]
    },
    {
     "name": "stdout",
     "output_type": "stream",
     "text": [
      "Another language found\n",
      "Another language found\n",
      "\n",
      "169./2633...QUESTION IS\n",
      "Организмите в биоценозата, които разграждат органичната материя и я превръщат  в неорганични вещества, се наричат:\n",
      "Entity found Организмите\n",
      "Entity found материя\n"
     ]
    },
    {
     "name": "stderr",
     "output_type": "stream",
     "text": [
      "Detector is not able to detect the language reliably.\n"
     ]
    },
    {
     "name": "stdout",
     "output_type": "stream",
     "text": [
      "Entity found вещества\n",
      "Entity found ред\n",
      "Entity found порядък\n",
      "Entity found продуценти\n",
      "Entity found ред\n",
      "Entity found порядък\n",
      "\n",
      "170./2633...QUESTION IS\n",
      "В голямото семейство на медоносната пчела функциите на хилядите безплодни  пчели работнички са строго разпределени. Едни от тях хранят ларвите и пчелата   майка, други събират цветен прашец и нектар, трети поддържат определена   влажност и температура в кошера, четвърти го защитават от неприятели. Това е   пример за:\n",
      "Entity found семейство\n",
      "Entity found пчела\n",
      "Entity found функциите\n",
      "Entity found пчели\n",
      "Entity found ларвите\n",
      "Entity found майка\n",
      "Entity found прашец\n",
      "Entity found нектар\n",
      "Entity found влажност\n",
      "Entity found температура\n",
      "Entity found кошера\n",
      "Entity found неприятели\n",
      "Entity found пример\n",
      "Entity found поведение\n",
      "Entity found поведение\n",
      "Entity found поведение\n",
      "Entity found поведение\n"
     ]
    },
    {
     "name": "stderr",
     "output_type": "stream",
     "text": [
      "Detector is not able to detect the language reliably.\n"
     ]
    },
    {
     "name": "stdout",
     "output_type": "stream",
     "text": [
      "\n",
      "171./2633...QUESTION IS\n",
      "За биосферата НЕ е вярно, че:\n",
      "Entity found биосферата\n",
      "Entity found продуктивност\n",
      "Entity found сушата\n",
      "Entity found океана\n",
      "Entity found организми\n",
      "Entity found Земята\n",
      "Entity found енергията\n",
      "Entity found Слънцето\n",
      "Entity found хидросферата\n",
      "Entity found атмосферата\n",
      "\n",
      "172./2633...QUESTION IS\n",
      "Ако една гора в нашата страна бъде изсечена, то през следващите години на това  място ще се:\n",
      "Entity found гора\n",
      "Entity found страна\n",
      "Entity found години\n",
      "Entity found място\n",
      "Entity found сукцесия\n",
      "Entity found азотът\n"
     ]
    },
    {
     "name": "stderr",
     "output_type": "stream",
     "text": [
      "Detector is not able to detect the language reliably.\n"
     ]
    },
    {
     "name": "stdout",
     "output_type": "stream",
     "text": [
      "Entity found въздуха\n",
      "Entity found област\n",
      "Entity found сукцесия\n",
      "\n",
      "173./2633...QUESTION IS\n",
      "Кой от посочените химични елементи участва в изграждането на всички  биополимери?\n",
      "Entity found елементи\n",
      "Entity found изграждането\n"
     ]
    },
    {
     "name": "stderr",
     "output_type": "stream",
     "text": [
      "Detector is not able to detect the language reliably.\n",
      "Detector is not able to detect the language reliably.\n",
      "Detector is not able to detect the language reliably.\n",
      "Detector is not able to detect the language reliably.\n"
     ]
    },
    {
     "name": "stdout",
     "output_type": "stream",
     "text": [
      "Another language found\n",
      "Another language found\n",
      "Another language found\n",
      "\n",
      "174./2633...QUESTION IS\n",
      "Представената структура  е мономер на:\n",
      "Entity found структура\n",
      "Entity found мономер\n"
     ]
    },
    {
     "name": "stderr",
     "output_type": "stream",
     "text": [
      "Detector is not able to detect the language reliably.\n",
      "Detector is not able to detect the language reliably.\n",
      "Detector is not able to detect the language reliably.\n"
     ]
    },
    {
     "name": "stdout",
     "output_type": "stream",
     "text": [
      "Another language found\n",
      "Another language found\n",
      "Entity found белтък\n",
      "Another language found\n",
      "\n",
      "175./2633...QUESTION IS\n",
      "Определете вярното съответствие между клетъчен органел и основната му  функция.\n",
      "Entity found съответствие\n",
      "Entity found органел\n",
      "Entity found функция\n",
      "Entity found мрежа\n",
      "Entity found съхраняване\n"
     ]
    },
    {
     "name": "stderr",
     "output_type": "stream",
     "text": [
      "Detector is not able to detect the language reliably.\n"
     ]
    },
    {
     "name": "stdout",
     "output_type": "stream",
     "text": [
      "Entity found информация\n",
      "Entity found ['Голджи']\n",
      "Entity found комплекс\n",
      "Entity found синтез\n",
      "Entity found молекули\n",
      "Entity found смилане\n",
      "Entity found рибозоми\n",
      "Entity found синтез\n",
      "Entity found помощта\n",
      "Entity found енергия\n"
     ]
    },
    {
     "name": "stderr",
     "output_type": "stream",
     "text": [
      "Detector is not able to detect the language reliably.\n",
      "Detector is not able to detect the language reliably.\n"
     ]
    },
    {
     "name": "stdout",
     "output_type": "stream",
     "text": [
      "\n",
      "176./2633...QUESTION IS\n",
      "Коя структура е характерна както за прокариотните, така и за еукариотните  клетки?\n",
      "Entity found структура\n",
      "Entity found клетки\n",
      "Another language found\n",
      "Entity found комплекс\n"
     ]
    },
    {
     "name": "stderr",
     "output_type": "stream",
     "text": [
      "Detector is not able to detect the language reliably.\n"
     ]
    },
    {
     "name": "stdout",
     "output_type": "stream",
     "text": [
      "Entity found ядро\n",
      "\n",
      "177./2633...QUESTION IS\n",
      "Правилото за комплементарност на азотните бази НЕ се отнася за процеса:\n",
      "Entity found комплементарност\n",
      "Entity found бази\n"
     ]
    },
    {
     "name": "stderr",
     "output_type": "stream",
     "text": [
      "Detector is not able to detect the language reliably.\n",
      "Detector is not able to detect the language reliably.\n",
      "Detector is not able to detect the language reliably.\n"
     ]
    },
    {
     "name": "stdout",
     "output_type": "stream",
     "text": [
      "Entity found процеса\n",
      "Another language found\n",
      "Another language found\n",
      "Another language found\n",
      "Entity found репликация\n",
      "\n",
      "178./2633...QUESTION IS\n",
      "В митохондриите протича процесът:\n",
      "Entity found митохондриите\n",
      "Entity found процесът\n"
     ]
    },
    {
     "name": "stderr",
     "output_type": "stream",
     "text": [
      "Detector is not able to detect the language reliably.\n",
      "Detector is not able to detect the language reliably.\n"
     ]
    },
    {
     "name": "stdout",
     "output_type": "stream",
     "text": [
      "Entity found гликолиза\n",
      "Entity found ['цикъл']\n",
      "Entity found цикъл\n",
      "Entity found Кребс\n"
     ]
    },
    {
     "name": "stderr",
     "output_type": "stream",
     "text": [
      "Detector is not able to detect the language reliably.\n"
     ]
    },
    {
     "name": "stdout",
     "output_type": "stream",
     "text": [
      "Entity found ['Калвин']\n",
      "Entity found цикъл\n"
     ]
    },
    {
     "name": "stderr",
     "output_type": "stream",
     "text": [
      "Detector is not able to detect the language reliably.\n"
     ]
    },
    {
     "name": "stdout",
     "output_type": "stream",
     "text": [
      "Entity found фотосинтеза\n",
      "\n",
      "179./2633...QUESTION IS\n",
      "Цикълът на Калвин се определя като анаболитен процес, тъй като:\n",
      "Entity found ['Калвин']\n",
      "Entity found Цикълът\n"
     ]
    },
    {
     "name": "stderr",
     "output_type": "stream",
     "text": [
      "Detector is not able to detect the language reliably.\n"
     ]
    },
    {
     "name": "stdout",
     "output_type": "stream",
     "text": [
      "Entity found процес\n",
      "Entity found синтез\n",
      "Entity found съединения\n"
     ]
    },
    {
     "name": "stderr",
     "output_type": "stream",
     "text": [
      "Detector is not able to detect the language reliably.\n"
     ]
    },
    {
     "name": "stdout",
     "output_type": "stream",
     "text": [
      "Entity found условия\n",
      "Entity found клетки\n",
      "Entity found участието\n",
      "Entity found ензими\n",
      "\n",
      "180./2633...QUESTION IS\n",
      "Клетки с редуциран хромозомен набор се получават в резултат на процеса:\n",
      "Entity found Клетки\n"
     ]
    },
    {
     "name": "stderr",
     "output_type": "stream",
     "text": [
      "Detector is not able to detect the language reliably.\n",
      "Detector is not able to detect the language reliably.\n",
      "Detector is not able to detect the language reliably.\n"
     ]
    },
    {
     "name": "stdout",
     "output_type": "stream",
     "text": [
      "Entity found набор\n",
      "Entity found резултат\n",
      "Entity found процеса\n",
      "Entity found мейоза\n",
      "Another language found\n",
      "Another language found\n",
      "Another language found\n",
      "\n",
      "181./2633...QUESTION IS\n",
      "Определете НЕВЯРНОТО твърдение.  Както митозата, така и мейозата:\n",
      "Entity found твърдение\n",
      "Entity found мейозата\n",
      "Entity found деспирализация\n",
      "Entity found хромозомите\n",
      "Entity found хроматин\n",
      "Entity found комбинации\n",
      "Entity found гени\n",
      "Entity found кросинговър\n",
      "Entity found интерфаза\n",
      "Entity found разделяне\n",
      "Entity found цитоплазмата\n",
      "\n",
      "182./2633...QUESTION IS\n",
      "Кое понятие НЕ съответства на останалите три по своето равнище на организация?\n",
      "Entity found понятие\n"
     ]
    },
    {
     "name": "stderr",
     "output_type": "stream",
     "text": [
      "Detector is not able to detect the language reliably.\n",
      "Detector is not able to detect the language reliably.\n",
      "Detector is not able to detect the language reliably.\n",
      "Detector is not able to detect the language reliably.\n"
     ]
    },
    {
     "name": "stdout",
     "output_type": "stream",
     "text": [
      "Entity found равнище\n",
      "Entity found организация\n",
      "Entity found дърво\n",
      "Another language found\n",
      "Another language found\n",
      "Another language found\n",
      "\n",
      "183./2633...QUESTION IS\n",
      "Генотипът на индивид, хомозиготен по един ген, може да се запише по следния начин:\n",
      "Entity found ['Генотипът']\n",
      "Entity found индивид\n",
      "Entity found ген\n",
      "Entity found начин\n"
     ]
    },
    {
     "name": "stderr",
     "output_type": "stream",
     "text": [
      "Detector is not able to detect the language reliably.\n",
      "Detector is not able to detect the language reliably.\n"
     ]
    },
    {
     "name": "stdout",
     "output_type": "stream",
     "text": [
      "Entity found аавв\n"
     ]
    },
    {
     "name": "stderr",
     "output_type": "stream",
     "text": [
      "Detector is not able to detect the language reliably.\n",
      "Detector is not able to detect the language reliably.\n"
     ]
    },
    {
     "name": "stdout",
     "output_type": "stream",
     "text": [
      "Another language found\n"
     ]
    },
    {
     "name": "stderr",
     "output_type": "stream",
     "text": [
      "Detector is not able to detect the language reliably.\n",
      "Detector is not able to detect the language reliably.\n",
      "Detector is not able to detect the language reliably.\n"
     ]
    },
    {
     "name": "stdout",
     "output_type": "stream",
     "text": [
      "\n",
      "184./2633...QUESTION IS\n",
      "Модификациите:\n",
      "Another language found\n",
      "Entity found хромозомите\n",
      "Entity found изменения\n",
      "Entity found изменения\n",
      "Entity found гените\n",
      "\n",
      "185./2633...QUESTION IS\n",
      "Алелно взаимодействие, при което в хетерозиготните индивиди фенотипно се  проявява средна стойност на белега, се нарича:\n",
      "Entity found взаимодействие\n",
      "Entity found индивиди\n",
      "Entity found стойност\n"
     ]
    },
    {
     "name": "stderr",
     "output_type": "stream",
     "text": [
      "Detector is not able to detect the language reliably.\n",
      "Detector is not able to detect the language reliably.\n",
      "Detector is not able to detect the language reliably.\n"
     ]
    },
    {
     "name": "stdout",
     "output_type": "stream",
     "text": [
      "Entity found белега\n",
      "Entity found доминиране\n",
      "Another language found\n",
      "Entity found доминиране\n"
     ]
    },
    {
     "name": "stderr",
     "output_type": "stream",
     "text": [
      "Detector is not able to detect the language reliably.\n"
     ]
    },
    {
     "name": "stdout",
     "output_type": "stream",
     "text": [
      "\n",
      "186./2633...QUESTION IS\n",
      "Биологична макросистема е:\n"
     ]
    },
    {
     "name": "stderr",
     "output_type": "stream",
     "text": [
      "Detector is not able to detect the language reliably.\n",
      "Detector is not able to detect the language reliably.\n"
     ]
    },
    {
     "name": "stdout",
     "output_type": "stream",
     "text": [
      "Another language found\n",
      "Entity found клетката\n",
      "Entity found организмът\n"
     ]
    },
    {
     "name": "stderr",
     "output_type": "stream",
     "text": [
      "Detector is not able to detect the language reliably.\n",
      "Detector is not able to detect the language reliably.\n"
     ]
    },
    {
     "name": "stdout",
     "output_type": "stream",
     "text": [
      "Entity found видът\n",
      "Entity found биосферата\n",
      "\n",
      "187./2633...QUESTION IS\n",
      "Към групата на биотичните екологични фактори се отнася:\n",
      "Entity found групата\n",
      "Entity found фактори\n",
      "Entity found въздействието\n",
      "Entity found паразит\n",
      "Entity found гостоприемник\n"
     ]
    },
    {
     "name": "stderr",
     "output_type": "stream",
     "text": [
      "Detector is not able to detect the language reliably.\n",
      "Detector is not able to detect the language reliably.\n"
     ]
    },
    {
     "name": "stdout",
     "output_type": "stream",
     "text": [
      "Another language found\n",
      "Entity found температурата\n",
      "Entity found замърсяването\n",
      "Entity found почвата\n",
      "Entity found изригване\n",
      "Entity found вулкан\n"
     ]
    },
    {
     "name": "stderr",
     "output_type": "stream",
     "text": [
      "Detector is not able to detect the language reliably.\n"
     ]
    },
    {
     "name": "stdout",
     "output_type": "stream",
     "text": [
      "\n",
      "188./2633...QUESTION IS\n",
      "Популацията е съвкупност от:\n",
      "Entity found Популацията\n",
      "Entity found съвкупност\n",
      "Entity found индивиди\n",
      "Entity found видове\n",
      "Entity found видове\n",
      "Entity found видове\n",
      "Entity found индивиди\n",
      "Entity found вид\n",
      "\n",
      "189./2633...QUESTION IS\n",
      "Образуването на семейни групи (стада) при слоновете и маймуните е пример за:\n",
      "Entity found Образуването\n",
      "Entity found групи\n",
      "Entity found стада\n"
     ]
    }
   ],
   "source": [
    "from qa.wiki_abstracts import get_wiki_abstracts\n",
    "\n",
    "\n",
    "query_fields = [\n",
    "#     ['title.bulgarian', 'passage.bulgarian'],\n",
    "#     ['title.bulgarian', 'passage.ngram'],\n",
    "#     ['title.bulgarian', 'passage.ngram', 'passage', 'passage.bulgarian'],\n",
    "#     ['passage.ngram', 'passage', 'passage.bulgarian^2'],\n",
    "    ['title.bulgarian^2', 'passage.ngram', 'passage', 'passage.bulgarian^2'],\n",
    "]\n",
    "\n",
    "for query_field in query_fields:\n",
    "    #, 'bgwiki_window'\n",
    "    for name in ['bgwiki_paragraph']:\n",
    "        for cr in [2]:\n",
    "            start = time.time()\n",
    "            \n",
    "            setup = dict()\n",
    "            setup['results_count'] = cr\n",
    "            setup['query_field'] = query_field.copy()\n",
    "            setup['index'] = name\n",
    "            setup['model'] = model_dir\n",
    "\n",
    "            print(json.dumps(setup, indent=2))\n",
    "            print()\n",
    "\n",
    "            preds = {}\n",
    "\n",
    "            for i, q in enumerate(quiz.iterator()):\n",
    "                question = q.question\n",
    "                answers = q.answers\n",
    "\n",
    "                try:\n",
    "                    print(str(i + 1) + './' + str(quiz.size()), end='...')\n",
    "                    print('QUESTION IS')\n",
    "                    print(question)\n",
    "                    \n",
    "                    question_abstracts = get_wiki_abstracts([question])\n",
    "                    question_abstracts = question_abstracts[0] if len(question_abstracts) > 0 else ''\n",
    "                    answers_abstracts = get_wiki_abstracts(answers)\n",
    "                    \n",
    "                    passages = set()\n",
    "                    assert len(answers) == len(answers_abstracts)\n",
    "                    for i, a in enumerate(answers):\n",
    "                        passages.update([\n",
    "                            ' '.join((x['source']['passage'], answers_abstracts[i], question_abstracts))\n",
    "                                     for x in query_es(\n",
    "                                es, question + ' ' + a, setup['index'],\n",
    "                                setup['results_count'], setup['query_field'])\n",
    "                        ])\n",
    "                    \n",
    "                    # Adding wikipedia passages\n",
    "                    \n",
    "#                     passages = list(map(lambda x: x[0] + ' ' + x[1],\n",
    "#                                         zip(passages, [question_abstracts + ' ' + a for a in answers_abstracts])))\n",
    "\n",
    "                    ans_cnt = len(answers)\n",
    "                    if ans_cnt < 4:\n",
    "                        answers.append(' ')\n",
    "\n",
    "                    votes = np.zeros(4, dtype=np.int32)\n",
    "                    sc = np.ones((1, 4), dtype=np.float32)\n",
    "                    for p in passages:\n",
    "                        scores = predict(\n",
    "                            model, tokenizer, p, question, answers, use_gpu=True)\n",
    "                        if ans_cnt < 4:\n",
    "                            scores[0, 3] = -np.inf\n",
    "                        sc += softmax(scores)\n",
    "\n",
    "                        votes[scores.argmax()] += 1\n",
    "\n",
    "    #                 print(str(i + 1) + './' + str(len(quiz.data_gen)), question)\n",
    "    #                 print(answers, q['correct'])\n",
    "    #                 print(answers[sc.argmax()], votes)\n",
    "\n",
    "                    preds[q.id] = answers[sc.argmax()]\n",
    "                    print()\n",
    "                except KeyboardInterrupt:\n",
    "                    raise\n",
    "\n",
    "            print()\n",
    "            dirname = str(int(datetime.now().timestamp()))\n",
    "            path = 'experiments/{}'.format(dirname)\n",
    "           \n",
    "            try:\n",
    "                if not os.path.exists(path):\n",
    "                    os.makedirs(path)\n",
    "            except OSError:\n",
    "                print(\"Creation of the directory %s failed\" % path)\n",
    "            else:\n",
    "                print(\"Successfully created the directory %s \" % path)\n",
    "\n",
    "            with open(path + '/preds.json', 'w') as o:\n",
    "                json.dump(preds, o, ensure_ascii=False)\n",
    "\n",
    "            with open(path + '/setup.json', 'w') as o:\n",
    "                json.dump(setup, o, ensure_ascii=False, indent=2)\n",
    "                \n",
    "            \n",
    "\n",
    "            print(path)\n",
    "            !python evaluation/evaluate.py data/bg_rc-v1.0.json $path/preds.json  --out-file $path/eval.json\n",
    "            \n",
    "            end = time.time()\n",
    "            print(\"Done in {} seconds\", int(end - start))"
   ]
  },
  {
   "cell_type": "code",
   "execution_count": 9,
   "metadata": {},
   "outputs": [
    {
     "name": "stdout",
     "output_type": "stream",
     "text": [
      "Successfully created the directory experiments/1560647798 \n",
      "experiments/1560647798\n",
      "Done in {} seconds 13753\n"
     ]
    }
   ],
   "source": [
    "dirname = str(int(datetime.now().timestamp()))\n",
    "path = 'experiments/{}'.format(dirname)\n",
    "\n",
    "try:\n",
    "    if not os.path.exists(path):\n",
    "        os.makedirs(path)\n",
    "except OSError:\n",
    "    print(\"Creation of the directory %s failed\" % path)\n",
    "else:\n",
    "    print(\"Successfully created the directory %s \" % path)\n",
    "\n",
    "with open(path + '/preds.json', 'w') as o:\n",
    "    json.dump(preds, o, ensure_ascii=False)\n",
    "\n",
    "with open(path + '/setup.json', 'w') as o:\n",
    "    json.dump(setup, o, ensure_ascii=False, indent=2)\n",
    "\n",
    "\n",
    "\n",
    "print(path)\n",
    "!python evaluation/evaluate.py data/bg_rc-v1.0.json $path/preds.json  --out-file $path/eval.json\n",
    "\n",
    "end = time.time()\n",
    "print(\"Done in {} seconds\", int(end - start))"
   ]
  },
  {
   "cell_type": "code",
   "execution_count": null,
   "metadata": {},
   "outputs": [],
   "source": [
    "from polyglot.text import Text\n",
    "\n",
    "\n",
    "t = Text(\"Редуцентите са организми, които се хранят:\", hint_language_code='bg')"
   ]
  },
  {
   "cell_type": "code",
   "execution_count": null,
   "metadata": {},
   "outputs": [],
   "source": [
    "t.pos_tags"
   ]
  },
  {
   "cell_type": "code",
   "execution_count": null,
   "metadata": {},
   "outputs": [],
   "source": [
    "list(filter(lambda x: x[1] == 'NOUN', t.pos_tags))"
   ]
  },
  {
   "cell_type": "code",
   "execution_count": null,
   "metadata": {},
   "outputs": [],
   "source": []
  },
  {
   "cell_type": "code",
   "execution_count": null,
   "metadata": {},
   "outputs": [],
   "source": []
  }
 ],
 "metadata": {
  "hide_input": false,
  "kernelspec": {
   "display_name": "Python 3",
   "language": "python",
   "name": "python3"
  },
  "language_info": {
   "codemirror_mode": {
    "name": "ipython",
    "version": 3
   },
   "file_extension": ".py",
   "mimetype": "text/x-python",
   "name": "python",
   "nbconvert_exporter": "python",
   "pygments_lexer": "ipython3",
   "version": "3.7.3"
  },
  "varInspector": {
   "cols": {
    "lenName": 16,
    "lenType": 16,
    "lenVar": 40
   },
   "kernels_config": {
    "python": {
     "delete_cmd_postfix": "",
     "delete_cmd_prefix": "del ",
     "library": "var_list.py",
     "varRefreshCmd": "print(var_dic_list())"
    },
    "r": {
     "delete_cmd_postfix": ") ",
     "delete_cmd_prefix": "rm(",
     "library": "var_list.r",
     "varRefreshCmd": "cat(var_dic_list()) "
    }
   },
   "types_to_exclude": [
    "module",
    "function",
    "builtin_function_or_method",
    "instance",
    "_Feature"
   ],
   "window_display": false
  }
 },
 "nbformat": 4,
 "nbformat_minor": 2
}
